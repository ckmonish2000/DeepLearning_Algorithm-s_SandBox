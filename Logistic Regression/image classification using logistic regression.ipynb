{
 "cells": [
  {
   "cell_type": "code",
   "execution_count": 1,
   "metadata": {},
   "outputs": [],
   "source": [
    "import torch\n",
    "import torchvision\n",
    "from torchvision.datasets import MNIST"
   ]
  },
  {
   "cell_type": "markdown",
   "metadata": {},
   "source": [
    "## loading the dataset"
   ]
  },
  {
   "cell_type": "code",
   "execution_count": 2,
   "metadata": {},
   "outputs": [],
   "source": [
    "dataset=MNIST(root='dataset/',download=True)"
   ]
  },
  {
   "cell_type": "markdown",
   "metadata": {},
   "source": [
    "## loading the test dataset from the downloaded data"
   ]
  },
  {
   "cell_type": "code",
   "execution_count": 3,
   "metadata": {},
   "outputs": [],
   "source": [
    "test_dataset=MNIST(root='dataset/',train=False)"
   ]
  },
  {
   "cell_type": "code",
   "execution_count": 4,
   "metadata": {},
   "outputs": [
    {
     "data": {
      "text/plain": [
       "Dataset MNIST\n",
       "    Number of datapoints: 10000\n",
       "    Root location: dataset/\n",
       "    Split: Test"
      ]
     },
     "execution_count": 4,
     "metadata": {},
     "output_type": "execute_result"
    }
   ],
   "source": [
    "test_dataset"
   ]
  },
  {
   "cell_type": "code",
   "execution_count": 5,
   "metadata": {},
   "outputs": [
    {
     "data": {
      "text/plain": [
       "(<PIL.Image.Image image mode=L size=28x28 at 0x133CCC1FC88>, 5)"
      ]
     },
     "execution_count": 5,
     "metadata": {},
     "output_type": "execute_result"
    }
   ],
   "source": [
    "dataset[0]"
   ]
  },
  {
   "cell_type": "markdown",
   "metadata": {},
   "source": [
    "## viewing the image"
   ]
  },
  {
   "cell_type": "code",
   "execution_count": 6,
   "metadata": {},
   "outputs": [],
   "source": [
    "import matplotlib.pyplot as plt"
   ]
  },
  {
   "cell_type": "code",
   "execution_count": 7,
   "metadata": {},
   "outputs": [],
   "source": [
    "img,label=dataset[10]"
   ]
  },
  {
   "cell_type": "code",
   "execution_count": 8,
   "metadata": {},
   "outputs": [
    {
     "name": "stdout",
     "output_type": "stream",
     "text": [
      "3\n"
     ]
    },
    {
     "data": {
      "image/png": "[encoded data removed]",
      "text/plain": [
       "<Figure size 432x288 with 1 Axes>"
      ]
     },
     "metadata": {
      "needs_background": "light"
     },
     "output_type": "display_data"
    }
   ],
   "source": [
    "plt.imshow(img)\n",
    "print(label)"
   ]
  },
  {
   "cell_type": "markdown",
   "metadata": {},
   "source": [
    "## converting images to tensors"
   ]
  },
  {
   "cell_type": "code",
   "execution_count": 9,
   "metadata": {},
   "outputs": [],
   "source": [
    "import torchvision.transforms as transform"
   ]
  },
  {
   "cell_type": "code",
   "execution_count": 10,
   "metadata": {},
   "outputs": [],
   "source": [
    "ds=MNIST(root='dataset/',train=True,transform=transform.ToTensor())"
   ]
  },
  {
   "cell_type": "code",
   "execution_count": 11,
   "metadata": {},
   "outputs": [],
   "source": [
    "img,label=ds[0]"
   ]
  },
  {
   "cell_type": "code",
   "execution_count": 12,
   "metadata": {
    "scrolled": true
   },
   "outputs": [
    {
     "name": "stdout",
     "output_type": "stream",
     "text": [
      "torch.Size([1, 28, 28])\n",
      "5\n"
     ]
    }
   ],
   "source": [
    "print(img.shape)\n",
    "print(label)"
   ]
  },
  {
   "cell_type": "code",
   "execution_count": 13,
   "metadata": {},
   "outputs": [],
   "source": [
    "y=img[0,10:15,10:15]\n",
    "# y=torch.rand(1280,1280)"
   ]
  },
  {
   "cell_type": "code",
   "execution_count": 14,
   "metadata": {},
   "outputs": [
    {
     "data": {
      "text/plain": [
       "<matplotlib.image.AxesImage at 0x133d1d44bc8>"
      ]
     },
     "execution_count": 14,
     "metadata": {},
     "output_type": "execute_result"
    },
    {
     "data": {
      "image/png": "[encoded data removed]",
      "text/plain": [
       "<Figure size 432x288 with 1 Axes>"
      ]
     },
     "metadata": {
      "needs_background": "light"
     },
     "output_type": "display_data"
    }
   ],
   "source": [
    "plt.imshow(y,cmap='gray')"
   ]
  },
  {
   "cell_type": "markdown",
   "metadata": {},
   "source": [
    "## Understanding How to Split Training and Validation Data"
   ]
  },
  {
   "cell_type": "code",
   "execution_count": 15,
   "metadata": {},
   "outputs": [],
   "source": [
    "import numpy as np"
   ]
  },
  {
   "cell_type": "code",
   "execution_count": 16,
   "metadata": {},
   "outputs": [],
   "source": [
    "n=len(ds)"
   ]
  },
  {
   "cell_type": "code",
   "execution_count": 17,
   "metadata": {},
   "outputs": [],
   "source": [
    "val_per=0.5"
   ]
  },
  {
   "cell_type": "code",
   "execution_count": 18,
   "metadata": {},
   "outputs": [],
   "source": [
    "n_val=int(n*val_per)"
   ]
  },
  {
   "cell_type": "code",
   "execution_count": 19,
   "metadata": {},
   "outputs": [],
   "source": [
    "idxs=np.random.permutation(n)"
   ]
  },
  {
   "cell_type": "code",
   "execution_count": 20,
   "metadata": {},
   "outputs": [
    {
     "data": {
      "text/plain": [
       "array([44885, 43455, 45672, ..., 41835, 39878, 57708])"
      ]
     },
     "execution_count": 20,
     "metadata": {},
     "output_type": "execute_result"
    }
   ],
   "source": [
    "idxs"
   ]
  },
  {
   "cell_type": "code",
   "execution_count": 21,
   "metadata": {},
   "outputs": [
    {
     "data": {
      "text/plain": [
       "array([44885, 43455, 45672, ..., 47555, 57256, 31725])"
      ]
     },
     "execution_count": 21,
     "metadata": {},
     "output_type": "execute_result"
    }
   ],
   "source": [
    "idxs[:n_val]"
   ]
  },
  {
   "cell_type": "markdown",
   "metadata": {},
   "source": [
    "# Split Function"
   ]
  },
  {
   "cell_type": "code",
   "execution_count": 22,
   "metadata": {},
   "outputs": [],
   "source": [
    "import numpy as np\n",
    "def valSplit(n,split_percentage):\n",
    "    num_val=int(n*split_percentage)\n",
    "    indexs=np.random.permutation(n)\n",
    "    print(indexs)\n",
    "    return indexs[num_val:],indexs[:num_val]"
   ]
  },
  {
   "cell_type": "code",
   "execution_count": 23,
   "metadata": {},
   "outputs": [
    {
     "name": "stdout",
     "output_type": "stream",
     "text": [
      "[53775 49222 32940 ... 57784 52798 33809]\n"
     ]
    }
   ],
   "source": [
    "train_index,validation_index=valSplit(len(ds),0.2)"
   ]
  },
  {
   "cell_type": "code",
   "execution_count": 24,
   "metadata": {},
   "outputs": [],
   "source": [
    "from torch.utils.data.sampler import SubsetRandomSampler\n",
    "from torch.utils.data.dataloader import DataLoader\n",
    "import torch"
   ]
  },
  {
   "cell_type": "code",
   "execution_count": 25,
   "metadata": {},
   "outputs": [],
   "source": [
    "batch_size=100\n",
    "\n",
    "train_sampler=SubsetRandomSampler(train_index)\n",
    "train_Dl=DataLoader(ds,batch_size=batch_size,sampler=train_sampler)\n",
    "\n",
    "vali_sampler=SubsetRandomSampler(validation_index)\n",
    "vali_Dl=DataLoader(ds,batch_size=batch_size,sampler=vali_sampler)"
   ]
  },
  {
   "cell_type": "code",
   "execution_count": 26,
   "metadata": {},
   "outputs": [],
   "source": [
    "train_set,validate_set=torch.utils.data.random_split(ds,[50000,10000])\n",
    "train_dl=DataLoader(train_set,batch_size=batch_size)\n",
    "vali_dl=DataLoader(validate_set,batch_size=batch_size)"
   ]
  },
  {
   "cell_type": "code",
   "execution_count": 27,
   "metadata": {},
   "outputs": [
    {
     "data": {
      "text/plain": [
       "torch.Size([1, 28, 28])"
      ]
     },
     "execution_count": 27,
     "metadata": {},
     "output_type": "execute_result"
    }
   ],
   "source": [
    "img,label=ds[0]\n",
    "img.shape"
   ]
  },
  {
   "cell_type": "markdown",
   "metadata": {},
   "source": [
    "## Model"
   ]
  },
  {
   "cell_type": "code",
   "execution_count": 28,
   "metadata": {},
   "outputs": [],
   "source": [
    "import torch.nn as nn"
   ]
  },
  {
   "cell_type": "code",
   "execution_count": 29,
   "metadata": {},
   "outputs": [],
   "source": [
    "model=nn.Linear(784,10)"
   ]
  },
  {
   "cell_type": "code",
   "execution_count": 30,
   "metadata": {},
   "outputs": [
    {
     "name": "stdout",
     "output_type": "stream",
     "text": [
      "tensor([8, 9, 1, 0, 2, 8, 1, 7, 5, 9, 7, 4, 8, 0, 0, 8, 4, 1, 8, 5, 3, 3, 8, 4,\n",
      "        1, 3, 3, 7, 0, 6, 4, 4, 7, 6, 7, 1, 8, 3, 1, 1, 4, 7, 4, 6, 1, 8, 7, 1,\n",
      "        3, 8, 5, 2, 6, 5, 9, 1, 8, 8, 4, 9, 2, 3, 2, 7, 8, 6, 2, 2, 0, 8, 0, 2,\n",
      "        6, 1, 1, 8, 0, 5, 4, 1, 9, 7, 2, 5, 0, 6, 4, 1, 4, 1, 9, 7, 5, 0, 6, 6,\n",
      "        2, 9, 3, 0])\n",
      "torch.Size([100, 1, 28, 28])\n"
     ]
    },
    {
     "ename": "RuntimeError",
     "evalue": "size mismatch, m1: [2800 x 28], m2: [784 x 10] at C:\\cb\\pytorch_1000000000000\\work\\aten\\src\\TH/generic/THTensorMath.cpp:41",
     "output_type": "error",
     "traceback": [
      "\u001b[1;31m-------------------------------------------------------------------\u001b[0m",
      "\u001b[1;31mRuntimeError\u001b[0m                      Traceback (most recent call last)",
      "\u001b[1;32m<ipython-input-30-06f1b88b155a>\u001b[0m in \u001b[0;36m<module>\u001b[1;34m\u001b[0m\n\u001b[0;32m      2\u001b[0m     \u001b[0mprint\u001b[0m\u001b[1;33m(\u001b[0m\u001b[0mlabel\u001b[0m\u001b[1;33m)\u001b[0m\u001b[1;33m\u001b[0m\u001b[1;33m\u001b[0m\u001b[0m\n\u001b[0;32m      3\u001b[0m     \u001b[0mprint\u001b[0m\u001b[1;33m(\u001b[0m\u001b[0mimg\u001b[0m\u001b[1;33m.\u001b[0m\u001b[0mshape\u001b[0m\u001b[1;33m)\u001b[0m\u001b[1;33m\u001b[0m\u001b[1;33m\u001b[0m\u001b[0m\n\u001b[1;32m----> 4\u001b[1;33m     \u001b[0mpred\u001b[0m\u001b[1;33m=\u001b[0m\u001b[0mmodel\u001b[0m\u001b[1;33m(\u001b[0m\u001b[0mimg\u001b[0m\u001b[1;33m)\u001b[0m\u001b[1;33m\u001b[0m\u001b[1;33m\u001b[0m\u001b[0m\n\u001b[0m\u001b[0;32m      5\u001b[0m     \u001b[1;32mbreak\u001b[0m\u001b[1;33m\u001b[0m\u001b[1;33m\u001b[0m\u001b[0m\n",
      "\u001b[1;32m~\\anaconda3\\lib\\site-packages\\torch\\nn\\modules\\module.py\u001b[0m in \u001b[0;36m__call__\u001b[1;34m(self, *input, **kwargs)\u001b[0m\n\u001b[0;32m    548\u001b[0m             \u001b[0mresult\u001b[0m \u001b[1;33m=\u001b[0m \u001b[0mself\u001b[0m\u001b[1;33m.\u001b[0m\u001b[0m_slow_forward\u001b[0m\u001b[1;33m(\u001b[0m\u001b[1;33m*\u001b[0m\u001b[0minput\u001b[0m\u001b[1;33m,\u001b[0m \u001b[1;33m**\u001b[0m\u001b[0mkwargs\u001b[0m\u001b[1;33m)\u001b[0m\u001b[1;33m\u001b[0m\u001b[1;33m\u001b[0m\u001b[0m\n\u001b[0;32m    549\u001b[0m         \u001b[1;32melse\u001b[0m\u001b[1;33m:\u001b[0m\u001b[1;33m\u001b[0m\u001b[1;33m\u001b[0m\u001b[0m\n\u001b[1;32m--> 550\u001b[1;33m             \u001b[0mresult\u001b[0m \u001b[1;33m=\u001b[0m \u001b[0mself\u001b[0m\u001b[1;33m.\u001b[0m\u001b[0mforward\u001b[0m\u001b[1;33m(\u001b[0m\u001b[1;33m*\u001b[0m\u001b[0minput\u001b[0m\u001b[1;33m,\u001b[0m \u001b[1;33m**\u001b[0m\u001b[0mkwargs\u001b[0m\u001b[1;33m)\u001b[0m\u001b[1;33m\u001b[0m\u001b[1;33m\u001b[0m\u001b[0m\n\u001b[0m\u001b[0;32m    551\u001b[0m         \u001b[1;32mfor\u001b[0m \u001b[0mhook\u001b[0m \u001b[1;32min\u001b[0m \u001b[0mself\u001b[0m\u001b[1;33m.\u001b[0m\u001b[0m_forward_hooks\u001b[0m\u001b[1;33m.\u001b[0m\u001b[0mvalues\u001b[0m\u001b[1;33m(\u001b[0m\u001b[1;33m)\u001b[0m\u001b[1;33m:\u001b[0m\u001b[1;33m\u001b[0m\u001b[1;33m\u001b[0m\u001b[0m\n\u001b[0;32m    552\u001b[0m             \u001b[0mhook_result\u001b[0m \u001b[1;33m=\u001b[0m \u001b[0mhook\u001b[0m\u001b[1;33m(\u001b[0m\u001b[0mself\u001b[0m\u001b[1;33m,\u001b[0m \u001b[0minput\u001b[0m\u001b[1;33m,\u001b[0m \u001b[0mresult\u001b[0m\u001b[1;33m)\u001b[0m\u001b[1;33m\u001b[0m\u001b[1;33m\u001b[0m\u001b[0m\n",
      "\u001b[1;32m~\\anaconda3\\lib\\site-packages\\torch\\nn\\modules\\linear.py\u001b[0m in \u001b[0;36mforward\u001b[1;34m(self, input)\u001b[0m\n\u001b[0;32m     85\u001b[0m \u001b[1;33m\u001b[0m\u001b[0m\n\u001b[0;32m     86\u001b[0m     \u001b[1;32mdef\u001b[0m \u001b[0mforward\u001b[0m\u001b[1;33m(\u001b[0m\u001b[0mself\u001b[0m\u001b[1;33m,\u001b[0m \u001b[0minput\u001b[0m\u001b[1;33m)\u001b[0m\u001b[1;33m:\u001b[0m\u001b[1;33m\u001b[0m\u001b[1;33m\u001b[0m\u001b[0m\n\u001b[1;32m---> 87\u001b[1;33m         \u001b[1;32mreturn\u001b[0m \u001b[0mF\u001b[0m\u001b[1;33m.\u001b[0m\u001b[0mlinear\u001b[0m\u001b[1;33m(\u001b[0m\u001b[0minput\u001b[0m\u001b[1;33m,\u001b[0m \u001b[0mself\u001b[0m\u001b[1;33m.\u001b[0m\u001b[0mweight\u001b[0m\u001b[1;33m,\u001b[0m \u001b[0mself\u001b[0m\u001b[1;33m.\u001b[0m\u001b[0mbias\u001b[0m\u001b[1;33m)\u001b[0m\u001b[1;33m\u001b[0m\u001b[1;33m\u001b[0m\u001b[0m\n\u001b[0m\u001b[0;32m     88\u001b[0m \u001b[1;33m\u001b[0m\u001b[0m\n\u001b[0;32m     89\u001b[0m     \u001b[1;32mdef\u001b[0m \u001b[0mextra_repr\u001b[0m\u001b[1;33m(\u001b[0m\u001b[0mself\u001b[0m\u001b[1;33m)\u001b[0m\u001b[1;33m:\u001b[0m\u001b[1;33m\u001b[0m\u001b[1;33m\u001b[0m\u001b[0m\n",
      "\u001b[1;32m~\\anaconda3\\lib\\site-packages\\torch\\nn\\functional.py\u001b[0m in \u001b[0;36mlinear\u001b[1;34m(input, weight, bias)\u001b[0m\n\u001b[0;32m   1610\u001b[0m         \u001b[0mret\u001b[0m \u001b[1;33m=\u001b[0m \u001b[0mtorch\u001b[0m\u001b[1;33m.\u001b[0m\u001b[0maddmm\u001b[0m\u001b[1;33m(\u001b[0m\u001b[0mbias\u001b[0m\u001b[1;33m,\u001b[0m \u001b[0minput\u001b[0m\u001b[1;33m,\u001b[0m \u001b[0mweight\u001b[0m\u001b[1;33m.\u001b[0m\u001b[0mt\u001b[0m\u001b[1;33m(\u001b[0m\u001b[1;33m)\u001b[0m\u001b[1;33m)\u001b[0m\u001b[1;33m\u001b[0m\u001b[1;33m\u001b[0m\u001b[0m\n\u001b[0;32m   1611\u001b[0m     \u001b[1;32melse\u001b[0m\u001b[1;33m:\u001b[0m\u001b[1;33m\u001b[0m\u001b[1;33m\u001b[0m\u001b[0m\n\u001b[1;32m-> 1612\u001b[1;33m         \u001b[0moutput\u001b[0m \u001b[1;33m=\u001b[0m \u001b[0minput\u001b[0m\u001b[1;33m.\u001b[0m\u001b[0mmatmul\u001b[0m\u001b[1;33m(\u001b[0m\u001b[0mweight\u001b[0m\u001b[1;33m.\u001b[0m\u001b[0mt\u001b[0m\u001b[1;33m(\u001b[0m\u001b[1;33m)\u001b[0m\u001b[1;33m)\u001b[0m\u001b[1;33m\u001b[0m\u001b[1;33m\u001b[0m\u001b[0m\n\u001b[0m\u001b[0;32m   1613\u001b[0m         \u001b[1;32mif\u001b[0m \u001b[0mbias\u001b[0m \u001b[1;32mis\u001b[0m \u001b[1;32mnot\u001b[0m \u001b[1;32mNone\u001b[0m\u001b[1;33m:\u001b[0m\u001b[1;33m\u001b[0m\u001b[1;33m\u001b[0m\u001b[0m\n\u001b[0;32m   1614\u001b[0m             \u001b[0moutput\u001b[0m \u001b[1;33m+=\u001b[0m \u001b[0mbias\u001b[0m\u001b[1;33m\u001b[0m\u001b[1;33m\u001b[0m\u001b[0m\n",
      "\u001b[1;31mRuntimeError\u001b[0m: size mismatch, m1: [2800 x 28], m2: [784 x 10] at C:\\cb\\pytorch_1000000000000\\work\\aten\\src\\TH/generic/THTensorMath.cpp:41"
     ]
    }
   ],
   "source": [
    "for img,label in train_dl:\n",
    "    print(label)\n",
    "    print(img.shape)\n",
    "    pred=model(img)\n",
    "    break\n"
   ]
  },
  {
   "cell_type": "code",
   "execution_count": 31,
   "metadata": {},
   "outputs": [],
   "source": [
    "class MnistModel(nn.Module):\n",
    "    def __init__(self):\n",
    "        super().__init__()\n",
    "        self.linear=nn.Linear(784,10)\n",
    "            \n",
    "    def forward(self,xb):\n",
    "        xb=xb.reshape(-1,784)\n",
    "        print(xb.shape)\n",
    "        out=self.linear(xb)\n",
    "        return out\n",
    "\n",
    "model=MnistModel()        "
   ]
  },
  {
   "cell_type": "code",
   "execution_count": 32,
   "metadata": {},
   "outputs": [
    {
     "name": "stdout",
     "output_type": "stream",
     "text": [
      "torch.Size([100, 784])\n"
     ]
    }
   ],
   "source": [
    "for img,label in train_dl:\n",
    "    op=model(img)\n",
    "    l=label\n",
    "    break\n",
    "    "
   ]
  },
  {
   "cell_type": "markdown",
   "metadata": {},
   "source": [
    "## Softmax"
   ]
  },
  {
   "cell_type": "markdown",
   "metadata": {},
   "source": [
    "\n",
    "the soft max function is used to normalize the data\n",
    "1. when we actually predict the values using LinearReg it's predicting the value and not classifing it.\n",
    "\n",
    "2. so with soft max we first reduce the predictedd value to value b/w 0 and 1 because probablity is either it happens or not so in classification it's either it's the image or not.\n",
    "\n",
    "3. And each element of the row must be b/w 0 and 1 and when we add all the elements of that predicted row it must be = 1\n",
    "\n",
    "4. e= eulars constant 2.718\n",
    "\n",
    "5. soft max = y(predicted values)=> e**y/E e**y\n",
    "5. that is y is each individual element in the array and E e**y is sum of all the elements in the tensor e**y"
   ]
  },
  {
   "cell_type": "code",
   "execution_count": 39,
   "metadata": {},
   "outputs": [
    {
     "data": {
      "text/plain": [
       "tensor([-0.0717, -0.0111,  0.0690, -0.1126,  0.4359,  0.2844,  0.0623, -0.0368,\n",
       "        -0.0235, -0.1644], grad_fn=<SelectBackward>)"
      ]
     },
     "execution_count": 39,
     "metadata": {},
     "output_type": "execute_result"
    }
   ],
   "source": [
    "val=op[0]\n",
    "val"
   ]
  },
  {
   "cell_type": "code",
   "execution_count": 40,
   "metadata": {},
   "outputs": [],
   "source": [
    "exp=torch.exp(val)\n",
    "# exp is to raise e to the power of each element in the val tensor"
   ]
  },
  {
   "cell_type": "code",
   "execution_count": 41,
   "metadata": {},
   "outputs": [],
   "source": [
    "prob=exp/torch.sum(exp)"
   ]
  },
  {
   "cell_type": "code",
   "execution_count": 42,
   "metadata": {},
   "outputs": [
    {
     "data": {
      "text/plain": [
       "tensor(1.0000, grad_fn=<SumBackward0>)"
      ]
     },
     "execution_count": 42,
     "metadata": {},
     "output_type": "execute_result"
    }
   ],
   "source": [
    "torch.sum(prob)"
   ]
  },
  {
   "cell_type": "code",
   "execution_count": 43,
   "metadata": {},
   "outputs": [
    {
     "data": {
      "text/plain": [
       "tensor([0.0877, 0.0932, 0.1010, 0.0842, 0.1457, 0.1252, 0.1003, 0.0908, 0.0920,\n",
       "        0.0799], grad_fn=<DivBackward0>)"
      ]
     },
     "execution_count": 43,
     "metadata": {},
     "output_type": "execute_result"
    }
   ],
   "source": [
    "prob"
   ]
  },
  {
   "cell_type": "markdown",
   "metadata": {},
   "source": [
    "## pytorch softmax"
   ]
  },
  {
   "cell_type": "code",
   "execution_count": 44,
   "metadata": {},
   "outputs": [],
   "source": [
    "import torch.nn.functional as f"
   ]
  },
  {
   "cell_type": "code",
   "execution_count": 45,
   "metadata": {},
   "outputs": [
    {
     "data": {
      "text/plain": [
       "tensor([[0.0877, 0.0932, 0.1010, 0.0842, 0.1457, 0.1252, 0.1003, 0.0908, 0.0920,\n",
       "         0.0799],\n",
       "        [0.0620, 0.0873, 0.0973, 0.0719, 0.1636, 0.1257, 0.1155, 0.0947, 0.0834,\n",
       "         0.0985],\n",
       "        [0.0943, 0.0885, 0.1178, 0.0767, 0.1152, 0.1210, 0.0993, 0.1002, 0.0981,\n",
       "         0.0889],\n",
       "        [0.0947, 0.1034, 0.1206, 0.1014, 0.1225, 0.0971, 0.0994, 0.0814, 0.0858,\n",
       "         0.0936],\n",
       "        [0.0667, 0.0974, 0.1312, 0.0758, 0.1257, 0.1329, 0.0907, 0.1036, 0.0792,\n",
       "         0.0968],\n",
       "        [0.0753, 0.0752, 0.1195, 0.0565, 0.1673, 0.1543, 0.0950, 0.0948, 0.0825,\n",
       "         0.0796],\n",
       "        [0.0998, 0.0951, 0.1203, 0.0791, 0.1192, 0.1217, 0.0995, 0.0936, 0.0982,\n",
       "         0.0736],\n",
       "        [0.0688, 0.0818, 0.0976, 0.0532, 0.1514, 0.1239, 0.1078, 0.1123, 0.1021,\n",
       "         0.1013],\n",
       "        [0.0873, 0.0725, 0.0897, 0.0914, 0.1826, 0.0959, 0.1018, 0.0913, 0.0839,\n",
       "         0.1035],\n",
       "        [0.0487, 0.0893, 0.1029, 0.0882, 0.1648, 0.1258, 0.1235, 0.0920, 0.0700,\n",
       "         0.0947],\n",
       "        [0.0823, 0.0871, 0.1027, 0.0773, 0.1235, 0.1274, 0.0837, 0.1163, 0.0867,\n",
       "         0.1129],\n",
       "        [0.0683, 0.0898, 0.1024, 0.0786, 0.1391, 0.1037, 0.1003, 0.1199, 0.1142,\n",
       "         0.0836],\n",
       "        [0.0816, 0.0884, 0.1109, 0.0694, 0.1588, 0.1130, 0.0882, 0.1022, 0.0924,\n",
       "         0.0951],\n",
       "        [0.0702, 0.1197, 0.1110, 0.1004, 0.1707, 0.1006, 0.0765, 0.0862, 0.0748,\n",
       "         0.0900],\n",
       "        [0.0694, 0.1024, 0.1108, 0.1024, 0.1831, 0.0935, 0.0706, 0.1038, 0.0813,\n",
       "         0.0826],\n",
       "        [0.0755, 0.0843, 0.1026, 0.0657, 0.1739, 0.1417, 0.0928, 0.0983, 0.0835,\n",
       "         0.0816],\n",
       "        [0.0709, 0.0958, 0.1118, 0.0692, 0.1280, 0.1188, 0.1133, 0.1160, 0.0907,\n",
       "         0.0854],\n",
       "        [0.0914, 0.0885, 0.1244, 0.0785, 0.1019, 0.1086, 0.0862, 0.1152, 0.1028,\n",
       "         0.1024],\n",
       "        [0.0859, 0.0946, 0.0971, 0.0908, 0.1649, 0.1039, 0.1188, 0.0955, 0.0737,\n",
       "         0.0750],\n",
       "        [0.0776, 0.0806, 0.1350, 0.0744, 0.1252, 0.1092, 0.0982, 0.1169, 0.0843,\n",
       "         0.0988],\n",
       "        [0.0721, 0.0807, 0.0917, 0.1023, 0.1838, 0.0846, 0.0914, 0.0938, 0.1081,\n",
       "         0.0916],\n",
       "        [0.0940, 0.0801, 0.0917, 0.0844, 0.1138, 0.0941, 0.1288, 0.1283, 0.1078,\n",
       "         0.0769],\n",
       "        [0.0908, 0.1008, 0.1026, 0.0810, 0.1250, 0.1254, 0.0947, 0.1045, 0.0875,\n",
       "         0.0877],\n",
       "        [0.0692, 0.0800, 0.0972, 0.0600, 0.1774, 0.1442, 0.1150, 0.0849, 0.0835,\n",
       "         0.0887],\n",
       "        [0.0760, 0.0950, 0.1229, 0.0738, 0.1208, 0.1373, 0.0961, 0.1051, 0.0912,\n",
       "         0.0818],\n",
       "        [0.0729, 0.0904, 0.1141, 0.0774, 0.1656, 0.0948, 0.0968, 0.1032, 0.0951,\n",
       "         0.0897],\n",
       "        [0.0776, 0.0849, 0.1320, 0.0885, 0.1308, 0.1461, 0.0847, 0.0837, 0.0974,\n",
       "         0.0744],\n",
       "        [0.0806, 0.0881, 0.1161, 0.0819, 0.1491, 0.1122, 0.0942, 0.1018, 0.0701,\n",
       "         0.1059],\n",
       "        [0.0695, 0.1023, 0.1056, 0.0850, 0.2042, 0.0970, 0.0984, 0.0919, 0.0668,\n",
       "         0.0794],\n",
       "        [0.0753, 0.1015, 0.1040, 0.0967, 0.1602, 0.1031, 0.0869, 0.1153, 0.0886,\n",
       "         0.0683],\n",
       "        [0.1050, 0.0820, 0.0990, 0.0924, 0.1016, 0.0935, 0.0930, 0.1091, 0.1054,\n",
       "         0.1190],\n",
       "        [0.0950, 0.0922, 0.0954, 0.1165, 0.1511, 0.0774, 0.1125, 0.1014, 0.0874,\n",
       "         0.0710],\n",
       "        [0.0565, 0.0749, 0.0874, 0.0698, 0.2137, 0.1254, 0.0826, 0.0934, 0.0846,\n",
       "         0.1117],\n",
       "        [0.0777, 0.1179, 0.1138, 0.0860, 0.1376, 0.1138, 0.0900, 0.0934, 0.1057,\n",
       "         0.0641],\n",
       "        [0.0601, 0.0785, 0.0950, 0.0699, 0.1451, 0.1349, 0.1113, 0.1144, 0.0860,\n",
       "         0.1047],\n",
       "        [0.0839, 0.0869, 0.1333, 0.0811, 0.1155, 0.1155, 0.0836, 0.1104, 0.0937,\n",
       "         0.0961],\n",
       "        [0.0859, 0.0832, 0.0985, 0.0971, 0.1532, 0.1430, 0.0743, 0.0851, 0.1134,\n",
       "         0.0663],\n",
       "        [0.0884, 0.0788, 0.0809, 0.0936, 0.1884, 0.0941, 0.0947, 0.0952, 0.1019,\n",
       "         0.0841],\n",
       "        [0.0783, 0.0891, 0.1202, 0.0776, 0.1062, 0.1332, 0.0968, 0.1061, 0.0921,\n",
       "         0.1004],\n",
       "        [0.0862, 0.0943, 0.1038, 0.0936, 0.1146, 0.1343, 0.0918, 0.0967, 0.0987,\n",
       "         0.0860],\n",
       "        [0.1061, 0.0887, 0.0940, 0.0861, 0.1042, 0.1254, 0.1023, 0.1007, 0.0938,\n",
       "         0.0987],\n",
       "        [0.0569, 0.0782, 0.1009, 0.0859, 0.1384, 0.1185, 0.1194, 0.1164, 0.0780,\n",
       "         0.1075],\n",
       "        [0.0713, 0.0934, 0.1070, 0.0912, 0.1311, 0.0879, 0.1283, 0.1041, 0.0924,\n",
       "         0.0934],\n",
       "        [0.0950, 0.1003, 0.0957, 0.0811, 0.1251, 0.0951, 0.1023, 0.1005, 0.1280,\n",
       "         0.0770],\n",
       "        [0.0939, 0.0920, 0.1175, 0.0817, 0.1057, 0.1280, 0.0808, 0.1040, 0.0995,\n",
       "         0.0969],\n",
       "        [0.0840, 0.0863, 0.1230, 0.0773, 0.1686, 0.1311, 0.0702, 0.0870, 0.0921,\n",
       "         0.0804],\n",
       "        [0.0648, 0.0917, 0.0819, 0.0865, 0.1808, 0.0999, 0.0950, 0.0890, 0.1053,\n",
       "         0.1052],\n",
       "        [0.0742, 0.0809, 0.1427, 0.0796, 0.1210, 0.1309, 0.0945, 0.0911, 0.0884,\n",
       "         0.0967],\n",
       "        [0.1035, 0.1006, 0.1127, 0.0850, 0.1168, 0.0935, 0.0933, 0.0868, 0.0949,\n",
       "         0.1129],\n",
       "        [0.0790, 0.0946, 0.1085, 0.0679, 0.1546, 0.1147, 0.1177, 0.0897, 0.0928,\n",
       "         0.0804],\n",
       "        [0.0723, 0.0974, 0.1088, 0.0911, 0.1421, 0.0982, 0.1119, 0.1179, 0.0876,\n",
       "         0.0727],\n",
       "        [0.0744, 0.0845, 0.1450, 0.0821, 0.1092, 0.0992, 0.0825, 0.1323, 0.0938,\n",
       "         0.0971],\n",
       "        [0.0877, 0.0982, 0.1187, 0.0992, 0.1260, 0.1125, 0.0908, 0.0997, 0.0955,\n",
       "         0.0715],\n",
       "        [0.0721, 0.0745, 0.1300, 0.0696, 0.1669, 0.1727, 0.0804, 0.0847, 0.0744,\n",
       "         0.0745],\n",
       "        [0.0667, 0.0840, 0.0988, 0.0683, 0.1722, 0.1332, 0.1071, 0.0989, 0.0835,\n",
       "         0.0873],\n",
       "        [0.1065, 0.0926, 0.1249, 0.0876, 0.1149, 0.1062, 0.0959, 0.1009, 0.0985,\n",
       "         0.0721],\n",
       "        [0.0890, 0.0951, 0.1162, 0.0791, 0.1245, 0.1117, 0.0961, 0.0934, 0.0875,\n",
       "         0.1072],\n",
       "        [0.0870, 0.0957, 0.1386, 0.0922, 0.1226, 0.1320, 0.0762, 0.0818, 0.1029,\n",
       "         0.0709],\n",
       "        [0.0752, 0.0898, 0.1052, 0.0796, 0.1150, 0.1204, 0.1085, 0.1043, 0.0991,\n",
       "         0.1028],\n",
       "        [0.1015, 0.0719, 0.1150, 0.0695, 0.1278, 0.1290, 0.0887, 0.1111, 0.0918,\n",
       "         0.0936],\n",
       "        [0.0647, 0.0997, 0.0812, 0.0845, 0.1336, 0.1240, 0.0853, 0.1153, 0.1077,\n",
       "         0.1041],\n",
       "        [0.0934, 0.0785, 0.1163, 0.0770, 0.1559, 0.0766, 0.0899, 0.1151, 0.0968,\n",
       "         0.1005],\n",
       "        [0.0749, 0.1012, 0.1329, 0.1215, 0.1331, 0.0922, 0.0756, 0.0972, 0.1007,\n",
       "         0.0706],\n",
       "        [0.0736, 0.0881, 0.1116, 0.0792, 0.1155, 0.1303, 0.1111, 0.1047, 0.0848,\n",
       "         0.1011],\n",
       "        [0.0880, 0.0713, 0.1074, 0.0847, 0.1286, 0.1681, 0.0787, 0.0894, 0.1162,\n",
       "         0.0677],\n",
       "        [0.0695, 0.0935, 0.1382, 0.0839, 0.1214, 0.1081, 0.0879, 0.1124, 0.0955,\n",
       "         0.0896],\n",
       "        [0.0970, 0.0994, 0.1237, 0.0571, 0.1294, 0.1367, 0.0807, 0.1020, 0.0911,\n",
       "         0.0830],\n",
       "        [0.0767, 0.0710, 0.1062, 0.0755, 0.1416, 0.1339, 0.0998, 0.1125, 0.1031,\n",
       "         0.0797],\n",
       "        [0.0758, 0.0938, 0.0959, 0.1291, 0.1642, 0.0867, 0.0935, 0.0913, 0.0964,\n",
       "         0.0734],\n",
       "        [0.1066, 0.0891, 0.0974, 0.0848, 0.1380, 0.1201, 0.0868, 0.1028, 0.0968,\n",
       "         0.0775],\n",
       "        [0.0910, 0.1003, 0.1109, 0.0751, 0.1324, 0.0935, 0.0978, 0.1015, 0.0905,\n",
       "         0.1071],\n",
       "        [0.0792, 0.1173, 0.1294, 0.1069, 0.1099, 0.0977, 0.0912, 0.0855, 0.1054,\n",
       "         0.0775],\n",
       "        [0.0828, 0.0895, 0.0862, 0.0781, 0.1559, 0.1247, 0.0917, 0.1093, 0.1090,\n",
       "         0.0729],\n",
       "        [0.0890, 0.0926, 0.1196, 0.0914, 0.1017, 0.1245, 0.0884, 0.0969, 0.0982,\n",
       "         0.0976],\n",
       "        [0.0917, 0.0938, 0.1158, 0.0805, 0.1260, 0.1135, 0.0994, 0.1024, 0.0962,\n",
       "         0.0809],\n",
       "        [0.0777, 0.0827, 0.1186, 0.0927, 0.1532, 0.1284, 0.0812, 0.0796, 0.1029,\n",
       "         0.0829],\n",
       "        [0.0626, 0.1095, 0.1185, 0.0973, 0.1357, 0.0963, 0.0730, 0.1028, 0.0984,\n",
       "         0.1060],\n",
       "        [0.0814, 0.0737, 0.0997, 0.0971, 0.1503, 0.0963, 0.1142, 0.0992, 0.1020,\n",
       "         0.0860],\n",
       "        [0.0864, 0.0909, 0.1125, 0.0693, 0.1055, 0.0802, 0.1327, 0.1261, 0.0967,\n",
       "         0.0998],\n",
       "        [0.0880, 0.0907, 0.1033, 0.0892, 0.1294, 0.1220, 0.0965, 0.0899, 0.0959,\n",
       "         0.0951],\n",
       "        [0.0902, 0.0825, 0.1071, 0.0655, 0.1536, 0.1496, 0.0832, 0.0838, 0.0897,\n",
       "         0.0947],\n",
       "        [0.0622, 0.0787, 0.0916, 0.0704, 0.1439, 0.1370, 0.1193, 0.1082, 0.0835,\n",
       "         0.1052],\n",
       "        [0.0761, 0.1102, 0.1274, 0.0914, 0.1131, 0.1221, 0.1000, 0.0935, 0.0779,\n",
       "         0.0882],\n",
       "        [0.0748, 0.0681, 0.1137, 0.0873, 0.1854, 0.1272, 0.1000, 0.0784, 0.0792,\n",
       "         0.0860],\n",
       "        [0.0808, 0.0999, 0.1147, 0.0956, 0.1499, 0.1150, 0.0872, 0.0845, 0.0901,\n",
       "         0.0823],\n",
       "        [0.0793, 0.1098, 0.0974, 0.0974, 0.1487, 0.0881, 0.0851, 0.1181, 0.0961,\n",
       "         0.0800],\n",
       "        [0.0722, 0.0920, 0.1032, 0.0802, 0.1363, 0.1255, 0.1007, 0.1178, 0.0833,\n",
       "         0.0887],\n",
       "        [0.0936, 0.0999, 0.1195, 0.0916, 0.1115, 0.1345, 0.0817, 0.0911, 0.0937,\n",
       "         0.0829],\n",
       "        [0.0792, 0.0891, 0.1114, 0.0859, 0.1333, 0.1096, 0.1125, 0.0979, 0.0945,\n",
       "         0.0867],\n",
       "        [0.0844, 0.0907, 0.1198, 0.0747, 0.1300, 0.1244, 0.0958, 0.1031, 0.0907,\n",
       "         0.0862],\n",
       "        [0.0768, 0.0828, 0.1019, 0.0666, 0.1634, 0.1427, 0.0946, 0.0913, 0.0980,\n",
       "         0.0819],\n",
       "        [0.0674, 0.0774, 0.0848, 0.0538, 0.1471, 0.1199, 0.1114, 0.1212, 0.0873,\n",
       "         0.1298],\n",
       "        [0.1073, 0.0898, 0.1066, 0.0891, 0.1568, 0.0746, 0.1106, 0.0912, 0.0841,\n",
       "         0.0899],\n",
       "        [0.0691, 0.1161, 0.1085, 0.0915, 0.1799, 0.0842, 0.0807, 0.0881, 0.0970,\n",
       "         0.0850],\n",
       "        [0.0744, 0.0990, 0.0917, 0.0932, 0.1357, 0.1278, 0.0923, 0.0931, 0.1117,\n",
       "         0.0812],\n",
       "        [0.0788, 0.0901, 0.1082, 0.1186, 0.1332, 0.1160, 0.0828, 0.1009, 0.0924,\n",
       "         0.0789],\n",
       "        [0.1057, 0.1043, 0.1353, 0.0749, 0.0956, 0.1103, 0.0852, 0.1008, 0.1013,\n",
       "         0.0865],\n",
       "        [0.0678, 0.0868, 0.1163, 0.0749, 0.1531, 0.1063, 0.0920, 0.0968, 0.0958,\n",
       "         0.1100],\n",
       "        [0.1096, 0.0742, 0.0860, 0.0778, 0.1316, 0.0795, 0.1222, 0.1266, 0.1040,\n",
       "         0.0885],\n",
       "        [0.0728, 0.0945, 0.1235, 0.0944, 0.1238, 0.0848, 0.1107, 0.0982, 0.0752,\n",
       "         0.1220]], grad_fn=<SoftmaxBackward>)"
      ]
     },
     "execution_count": 45,
     "metadata": {},
     "output_type": "execute_result"
    }
   ],
   "source": [
    "prob=f.softmax(op,dim=1)\n",
    "prob"
   ]
  },
  {
   "cell_type": "code",
   "execution_count": 46,
   "metadata": {},
   "outputs": [],
   "source": [
    "max_pred,index_of_ele=torch.max(prob,dim=1)"
   ]
  },
  {
   "cell_type": "code",
   "execution_count": 47,
   "metadata": {},
   "outputs": [
    {
     "data": {
      "text/plain": [
       "tensor([0.1457, 0.1636, 0.1210, 0.1225, 0.1329, 0.1673, 0.1217, 0.1514, 0.1826,\n",
       "        0.1648, 0.1274, 0.1391, 0.1588, 0.1707, 0.1831, 0.1739, 0.1280, 0.1244,\n",
       "        0.1649, 0.1350, 0.1838, 0.1288, 0.1254, 0.1774, 0.1373, 0.1656, 0.1461,\n",
       "        0.1491, 0.2042, 0.1602, 0.1190, 0.1511, 0.2137, 0.1376, 0.1451, 0.1333,\n",
       "        0.1532, 0.1884, 0.1332, 0.1343, 0.1254, 0.1384, 0.1311, 0.1280, 0.1280,\n",
       "        0.1686, 0.1808, 0.1427, 0.1168, 0.1546, 0.1421, 0.1450, 0.1260, 0.1727,\n",
       "        0.1722, 0.1249, 0.1245, 0.1386, 0.1204, 0.1290, 0.1336, 0.1559, 0.1331,\n",
       "        0.1303, 0.1681, 0.1382, 0.1367, 0.1416, 0.1642, 0.1380, 0.1324, 0.1294,\n",
       "        0.1559, 0.1245, 0.1260, 0.1532, 0.1357, 0.1503, 0.1327, 0.1294, 0.1536,\n",
       "        0.1439, 0.1274, 0.1854, 0.1499, 0.1487, 0.1363, 0.1345, 0.1333, 0.1300,\n",
       "        0.1634, 0.1471, 0.1568, 0.1799, 0.1357, 0.1332, 0.1353, 0.1531, 0.1316,\n",
       "        0.1238], grad_fn=<MaxBackward0>)"
      ]
     },
     "execution_count": 47,
     "metadata": {},
     "output_type": "execute_result"
    }
   ],
   "source": [
    "max_pred"
   ]
  },
  {
   "cell_type": "code",
   "execution_count": 66,
   "metadata": {},
   "outputs": [
    {
     "data": {
      "text/plain": [
       "tensor([4, 4, 5, 4, 5, 4, 5, 4, 4, 4, 5, 4, 4, 4, 4, 4, 4, 2, 4, 2, 4, 6, 5, 4,\n",
       "        5, 4, 5, 4, 4, 4, 9, 4, 4, 4, 4, 2, 4, 4, 5, 5, 5, 4, 4, 8, 5, 4, 4, 2,\n",
       "        4, 4, 4, 2, 4, 5, 4, 2, 4, 2, 5, 5, 4, 4, 4, 5, 5, 2, 5, 4, 4, 4, 4, 2,\n",
       "        4, 5, 4, 4, 4, 4, 6, 4, 4, 4, 2, 4, 4, 4, 4, 5, 4, 4, 4, 4, 4, 4, 4, 4,\n",
       "        2, 4, 4, 4])"
      ]
     },
     "execution_count": 66,
     "metadata": {},
     "output_type": "execute_result"
    }
   ],
   "source": [
    "# this the index of the max prob elements that was predicted\n",
    "index_of_ele\n"
   ]
  },
  {
   "cell_type": "code",
   "execution_count": 67,
   "metadata": {},
   "outputs": [
    {
     "data": {
      "text/plain": [
       "tensor([8, 9, 1, 0, 2, 8, 1, 7, 5, 9, 7, 4, 8, 0, 0, 8, 4, 1, 8, 5, 3, 3, 8, 4,\n",
       "        1, 3, 3, 7, 0, 6, 4, 4, 7, 6, 7, 1, 8, 3, 1, 1, 4, 7, 4, 6, 1, 8, 7, 1,\n",
       "        3, 8, 5, 2, 6, 5, 9, 1, 8, 8, 4, 9, 2, 3, 2, 7, 8, 6, 2, 2, 0, 8, 0, 2,\n",
       "        6, 1, 1, 8, 0, 5, 4, 1, 9, 7, 2, 5, 0, 6, 4, 1, 4, 1, 9, 7, 5, 0, 6, 6,\n",
       "        2, 9, 3, 0])"
      ]
     },
     "execution_count": 67,
     "metadata": {},
     "output_type": "execute_result"
    }
   ],
   "source": [
    "# this the data label passed for the 100 images by the dataloader\n",
    "l\n"
   ]
  },
  {
   "cell_type": "markdown",
   "metadata": {},
   "source": [
    "### Accuracy : is calculated by dividing the total number of true or correct outcomes by the total sample space"
   ]
  },
  {
   "cell_type": "code",
   "execution_count": 73,
   "metadata": {},
   "outputs": [],
   "source": [
    "def accuracy(pred,label):\n",
    "    return torch.sum(pred==label).item()/len(label)"
   ]
  },
  {
   "cell_type": "code",
   "execution_count": 77,
   "metadata": {},
   "outputs": [],
   "source": [
    "loss=accuracy(index_of_ele,l)"
   ]
  },
  {
   "cell_type": "code",
   "execution_count": null,
   "metadata": {},
   "outputs": [],
   "source": []
  }
 ],
 "metadata": {
  "kernelspec": {
   "display_name": "Python 3",
   "language": "python",
   "name": "python3"
  },
  "language_info": {
   "codemirror_mode": {
    "name": "ipython",
    "version": 3
   },
   "file_extension": ".py",
   "mimetype": "text/x-python",
   "name": "python",
   "nbconvert_exporter": "python",
   "pygments_lexer": "ipython3",
   "version": "3.7.6"
  }
 },
 "nbformat": 4,
 "nbformat_minor": 4
}
