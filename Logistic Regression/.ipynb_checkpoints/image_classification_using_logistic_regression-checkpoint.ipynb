{
 "cells": [
  {
   "cell_type": "code",
   "execution_count": 0,
   "metadata": {
    "colab": {},
    "colab_type": "code",
    "id": "_7k_y1dcUuY6"
   },
   "outputs": [],
   "source": [
    "import torch\n",
    "import torchvision\n",
    "from torchvision.datasets import MNIST"
   ]
  },
  {
   "cell_type": "markdown",
   "metadata": {
    "colab_type": "text",
    "id": "3z_gRkcOUuZD"
   },
   "source": [
    "## loading the dataset"
   ]
  },
  {
   "cell_type": "code",
   "execution_count": 0,
   "metadata": {
    "colab": {},
    "colab_type": "code",
    "id": "6CVXHh34UuZE"
   },
   "outputs": [],
   "source": [
    "dataset=MNIST(root='dataset/',download=True)"
   ]
  },
  {
   "cell_type": "markdown",
   "metadata": {
    "colab_type": "text",
    "id": "Tf6QVHbwUuZI"
   },
   "source": [
    "## loading the test dataset from the downloaded data"
   ]
  },
  {
   "cell_type": "code",
   "execution_count": 0,
   "metadata": {
    "colab": {},
    "colab_type": "code",
    "id": "ev8-_8UuUuZK"
   },
   "outputs": [],
   "source": [
    "test_dataset=MNIST(root='dataset/',train=False)"
   ]
  },
  {
   "cell_type": "code",
   "execution_count": 17,
   "metadata": {
    "colab": {
     "base_uri": "https://localhost:8080/",
     "height": 85
    },
    "colab_type": "code",
    "id": "9WWUwKM8UuZO",
    "outputId": "55f3dbd6-b57e-4ad7-cf93-2627a0f8ffc2"
   },
   "outputs": [
    {
     "data": {
      "text/plain": [
       "Dataset MNIST\n",
       "    Number of datapoints: 10000\n",
       "    Root location: dataset/\n",
       "    Split: Test"
      ]
     },
     "execution_count": 17,
     "metadata": {
      "tags": []
     },
     "output_type": "execute_result"
    }
   ],
   "source": [
    "test_dataset"
   ]
  },
  {
   "cell_type": "code",
   "execution_count": 18,
   "metadata": {
    "colab": {
     "base_uri": "https://localhost:8080/",
     "height": 34
    },
    "colab_type": "code",
    "id": "eaU1dKDtUuZW",
    "outputId": "3e2f5a8a-e9db-4058-9d60-d1fde50dfaa0"
   },
   "outputs": [
    {
     "data": {
      "text/plain": [
       "(<PIL.Image.Image image mode=L size=28x28 at 0x7FBA749CE278>, 5)"
      ]
     },
     "execution_count": 18,
     "metadata": {
      "tags": []
     },
     "output_type": "execute_result"
    }
   ],
   "source": [
    "dataset[0]"
   ]
  },
  {
   "cell_type": "markdown",
   "metadata": {
    "colab_type": "text",
    "id": "sYdRl_zuUuZc"
   },
   "source": [
    "## viewing the image"
   ]
  },
  {
   "cell_type": "code",
   "execution_count": 0,
   "metadata": {
    "colab": {},
    "colab_type": "code",
    "id": "kVjZRBgbUuZd"
   },
   "outputs": [],
   "source": [
    "import matplotlib.pyplot as plt"
   ]
  },
  {
   "cell_type": "code",
   "execution_count": 0,
   "metadata": {
    "colab": {},
    "colab_type": "code",
    "id": "v_IdCtb_UuZh"
   },
   "outputs": [],
   "source": [
    "img,label=dataset[10]"
   ]
  },
  {
   "cell_type": "code",
   "execution_count": 21,
   "metadata": {
    "colab": {
     "base_uri": "https://localhost:8080/",
     "height": 282
    },
    "colab_type": "code",
    "id": "ySno9BR8UuZl",
    "outputId": "00dc288a-b2ce-444b-a2db-e0895b0a0415"
   },
   "outputs": [
    {
     "name": "stdout",
     "output_type": "stream",
     "text": [
      "3\n"
     ]
    },
    {
     "data": {
      "image/png": "[encoded data removed]",
      "text/plain": [
       "<Figure size 432x288 with 1 Axes>"
      ]
     },
     "metadata": {
      "needs_background": "light",
      "tags": []
     },
     "output_type": "display_data"
    }
   ],
   "source": [
    "plt.imshow(img)\n",
    "print(label)"
   ]
  },
  {
   "cell_type": "markdown",
   "metadata": {
    "colab_type": "text",
    "id": "lttSQpuJUuZo"
   },
   "source": [
    "## converting images to tensors"
   ]
  },
  {
   "cell_type": "code",
   "execution_count": 0,
   "metadata": {
    "colab": {},
    "colab_type": "code",
    "id": "C8f9vo93UuZp"
   },
   "outputs": [],
   "source": [
    "import torchvision.transforms as transform"
   ]
  },
  {
   "cell_type": "code",
   "execution_count": 0,
   "metadata": {
    "colab": {},
    "colab_type": "code",
    "id": "U1mJKs5vUuZt"
   },
   "outputs": [],
   "source": [
    "ds=MNIST(root='dataset/',train=True,transform=transform.ToTensor())"
   ]
  },
  {
   "cell_type": "code",
   "execution_count": 0,
   "metadata": {
    "colab": {},
    "colab_type": "code",
    "id": "JqWGfMBhUuZx"
   },
   "outputs": [],
   "source": [
    "img,label=ds[0]"
   ]
  },
  {
   "cell_type": "code",
   "execution_count": 25,
   "metadata": {
    "colab": {
     "base_uri": "https://localhost:8080/",
     "height": 51
    },
    "colab_type": "code",
    "id": "umSvn_4JUuZ1",
    "outputId": "393ed3ea-4ac7-4503-f0ef-11e61f866986",
    "scrolled": true
   },
   "outputs": [
    {
     "name": "stdout",
     "output_type": "stream",
     "text": [
      "torch.Size([1, 28, 28])\n",
      "5\n"
     ]
    }
   ],
   "source": [
    "print(img.shape)\n",
    "print(label)"
   ]
  },
  {
   "cell_type": "code",
   "execution_count": 0,
   "metadata": {
    "colab": {},
    "colab_type": "code",
    "id": "7Vd09ezSUuZ5"
   },
   "outputs": [],
   "source": [
    "y=img[0,10:15,10:15]\n",
    "# y=torch.rand(1280,1280)"
   ]
  },
  {
   "cell_type": "code",
   "execution_count": 27,
   "metadata": {
    "colab": {
     "base_uri": "https://localhost:8080/",
     "height": 282
    },
    "colab_type": "code",
    "id": "J0WNn9ZUUuZ8",
    "outputId": "bc0ea974-fbf9-438f-8b20-a9fb6270f5dd"
   },
   "outputs": [
    {
     "data": {
      "text/plain": [
       "<matplotlib.image.AxesImage at 0x7fba744a8160>"
      ]
     },
     "execution_count": 27,
     "metadata": {
      "tags": []
     },
     "output_type": "execute_result"
    },
    {
     "data": {
      "image/png": "[encoded data removed]",
      "text/plain": [
       "<Figure size 432x288 with 1 Axes>"
      ]
     },
     "metadata": {
      "needs_background": "light",
      "tags": []
     },
     "output_type": "display_data"
    }
   ],
   "source": [
    "plt.imshow(y,cmap='gray')"
   ]
  },
  {
   "cell_type": "markdown",
   "metadata": {
    "colab_type": "text",
    "id": "ocwCiRNbUuaA"
   },
   "source": [
    "## Understanding How to Split Training and Validation Data"
   ]
  },
  {
   "cell_type": "code",
   "execution_count": 0,
   "metadata": {
    "colab": {},
    "colab_type": "code",
    "id": "JhjSlYQuUuaB"
   },
   "outputs": [],
   "source": [
    "import numpy as np"
   ]
  },
  {
   "cell_type": "code",
   "execution_count": 0,
   "metadata": {
    "colab": {},
    "colab_type": "code",
    "id": "iVvCCPvAUuaK"
   },
   "outputs": [],
   "source": [
    "n=len(ds)"
   ]
  },
  {
   "cell_type": "code",
   "execution_count": 0,
   "metadata": {
    "colab": {},
    "colab_type": "code",
    "id": "ldk7phhcUuaO"
   },
   "outputs": [],
   "source": [
    "val_per=0.5"
   ]
  },
  {
   "cell_type": "code",
   "execution_count": 0,
   "metadata": {
    "colab": {},
    "colab_type": "code",
    "id": "wjIn-d_JUuaR"
   },
   "outputs": [],
   "source": [
    "n_val=int(n*val_per)"
   ]
  },
  {
   "cell_type": "code",
   "execution_count": 0,
   "metadata": {
    "colab": {},
    "colab_type": "code",
    "id": "GJyr8cIyUuaU"
   },
   "outputs": [],
   "source": [
    "idxs=np.random.permutation(n)"
   ]
  },
  {
   "cell_type": "code",
   "execution_count": 49,
   "metadata": {
    "colab": {
     "base_uri": "https://localhost:8080/",
     "height": 34
    },
    "colab_type": "code",
    "id": "hySvngjcUuaX",
    "outputId": "baae5b3c-c790-427e-d3d7-4d7baef44ae0"
   },
   "outputs": [
    {
     "data": {
      "text/plain": [
       "array([ 4690, 28024, 31658, ..., 25153, 20316,  9558])"
      ]
     },
     "execution_count": 49,
     "metadata": {
      "tags": []
     },
     "output_type": "execute_result"
    }
   ],
   "source": [
    "idxs"
   ]
  },
  {
   "cell_type": "code",
   "execution_count": 50,
   "metadata": {
    "colab": {
     "base_uri": "https://localhost:8080/",
     "height": 34
    },
    "colab_type": "code",
    "id": "pBfbBGm_Uuaa",
    "outputId": "2b1816ac-6081-4003-f583-d3461963c0b6"
   },
   "outputs": [
    {
     "data": {
      "text/plain": [
       "array([ 4690, 28024, 31658, ...,  9795, 29548, 41868])"
      ]
     },
     "execution_count": 50,
     "metadata": {
      "tags": []
     },
     "output_type": "execute_result"
    }
   ],
   "source": [
    "idxs[:n_val]"
   ]
  },
  {
   "cell_type": "markdown",
   "metadata": {
    "colab_type": "text",
    "id": "PZHLmurdUuad"
   },
   "source": [
    "# Split Function"
   ]
  },
  {
   "cell_type": "code",
   "execution_count": 0,
   "metadata": {
    "colab": {},
    "colab_type": "code",
    "id": "B2c8BSQuUuae"
   },
   "outputs": [],
   "source": [
    "import numpy as np\n",
    "def valSplit(n,split_percentage):\n",
    "    num_val=int(n*split_percentage)\n",
    "    indexs=np.random.permutation(n)\n",
    "    print(indexs)\n",
    "    return indexs[num_val:],indexs[:num_val]"
   ]
  },
  {
   "cell_type": "code",
   "execution_count": 52,
   "metadata": {
    "colab": {
     "base_uri": "https://localhost:8080/",
     "height": 34
    },
    "colab_type": "code",
    "id": "58DPgShEUuaj",
    "outputId": "4d066755-b247-493f-c755-3cf5da81a519"
   },
   "outputs": [
    {
     "name": "stdout",
     "output_type": "stream",
     "text": [
      "[47219   173 41175 ... 44055  7567 50174]\n"
     ]
    }
   ],
   "source": [
    "train_index,validation_index=valSplit(len(ds),0.2)"
   ]
  },
  {
   "cell_type": "code",
   "execution_count": 0,
   "metadata": {
    "colab": {},
    "colab_type": "code",
    "id": "NCqEJNUOUuan"
   },
   "outputs": [],
   "source": [
    "from torch.utils.data.sampler import SubsetRandomSampler\n",
    "from torch.utils.data.dataloader import DataLoader\n",
    "import torch"
   ]
  },
  {
   "cell_type": "code",
   "execution_count": 0,
   "metadata": {
    "colab": {},
    "colab_type": "code",
    "id": "cbaM2CB_Uuaq"
   },
   "outputs": [],
   "source": [
    "batch_size=100\n",
    "\n",
    "train_sampler=SubsetRandomSampler(train_index)\n",
    "train_Dl=DataLoader(ds,batch_size=batch_size,sampler=train_sampler)\n",
    "\n",
    "vali_sampler=SubsetRandomSampler(validation_index)\n",
    "vali_Dl=DataLoader(ds,batch_size=batch_size,sampler=vali_sampler)"
   ]
  },
  {
   "cell_type": "code",
   "execution_count": 0,
   "metadata": {
    "colab": {},
    "colab_type": "code",
    "id": "6yDgUkMpUuat"
   },
   "outputs": [],
   "source": [
    "train_set,validate_set=torch.utils.data.random_split(ds,[50000,10000])\n",
    "train_dl=DataLoader(train_set,batch_size=batch_size)\n",
    "vali_dl=DataLoader(validate_set,batch_size=batch_size)"
   ]
  },
  {
   "cell_type": "code",
   "execution_count": 56,
   "metadata": {
    "colab": {
     "base_uri": "https://localhost:8080/",
     "height": 34
    },
    "colab_type": "code",
    "id": "AaqpEuH9Uuay",
    "outputId": "e3298d46-dea5-41ad-900d-60a68847f390"
   },
   "outputs": [
    {
     "data": {
      "text/plain": [
       "torch.Size([1, 28, 28])"
      ]
     },
     "execution_count": 56,
     "metadata": {
      "tags": []
     },
     "output_type": "execute_result"
    }
   ],
   "source": [
    "img,label=ds[0]\n",
    "img.shape"
   ]
  },
  {
   "cell_type": "markdown",
   "metadata": {
    "colab_type": "text",
    "id": "XLU5HM78Uua1"
   },
   "source": [
    "## Model"
   ]
  },
  {
   "cell_type": "code",
   "execution_count": 0,
   "metadata": {
    "colab": {},
    "colab_type": "code",
    "id": "QmEpwT1dUua2"
   },
   "outputs": [],
   "source": [
    "import torch.nn as nn"
   ]
  },
  {
   "cell_type": "code",
   "execution_count": 0,
   "metadata": {
    "colab": {},
    "colab_type": "code",
    "id": "qf7b-gGCUua4"
   },
   "outputs": [],
   "source": [
    "model=nn.Linear(784,10)"
   ]
  },
  {
   "cell_type": "code",
   "execution_count": 59,
   "metadata": {
    "colab": {
     "base_uri": "https://localhost:8080/",
     "height": 459
    },
    "colab_type": "code",
    "id": "fYv90Y6EUua_",
    "outputId": "bb9297d1-0a41-4524-e81f-ce005183f628"
   },
   "outputs": [
    {
     "name": "stdout",
     "output_type": "stream",
     "text": [
      "tensor([5, 9, 7, 4, 7, 0, 1, 5, 5, 0, 7, 4, 5, 1, 4, 9, 0, 0, 0, 1, 1, 7, 0, 8,\n",
      "        0, 0, 3, 0, 4, 1, 9, 0, 4, 3, 9, 1, 8, 1, 7, 3, 9, 1, 7, 4, 5, 6, 4, 0,\n",
      "        0, 9, 1, 9, 7, 4, 5, 2, 2, 3, 1, 5, 8, 9, 3, 3, 7, 8, 3, 4, 8, 0, 9, 1,\n",
      "        6, 9, 0, 4, 6, 9, 7, 0, 0, 1, 6, 7, 1, 1, 9, 7, 6, 5, 0, 3, 0, 1, 1, 9,\n",
      "        7, 9, 1, 1])\n",
      "torch.Size([100, 1, 28, 28])\n"
     ]
    },
    {
     "ename": "RuntimeError",
     "evalue": "ignored",
     "output_type": "error",
     "traceback": [
      "\u001b[0;31m---------------------------------------------------------------------------\u001b[0m",
      "\u001b[0;31mRuntimeError\u001b[0m                              Traceback (most recent call last)",
      "\u001b[0;32m<ipython-input-59-06f1b88b155a>\u001b[0m in \u001b[0;36m<module>\u001b[0;34m()\u001b[0m\n\u001b[1;32m      2\u001b[0m     \u001b[0mprint\u001b[0m\u001b[0;34m(\u001b[0m\u001b[0mlabel\u001b[0m\u001b[0;34m)\u001b[0m\u001b[0;34m\u001b[0m\u001b[0;34m\u001b[0m\u001b[0m\n\u001b[1;32m      3\u001b[0m     \u001b[0mprint\u001b[0m\u001b[0;34m(\u001b[0m\u001b[0mimg\u001b[0m\u001b[0;34m.\u001b[0m\u001b[0mshape\u001b[0m\u001b[0;34m)\u001b[0m\u001b[0;34m\u001b[0m\u001b[0;34m\u001b[0m\u001b[0m\n\u001b[0;32m----> 4\u001b[0;31m     \u001b[0mpred\u001b[0m\u001b[0;34m=\u001b[0m\u001b[0mmodel\u001b[0m\u001b[0;34m(\u001b[0m\u001b[0mimg\u001b[0m\u001b[0;34m)\u001b[0m\u001b[0;34m\u001b[0m\u001b[0;34m\u001b[0m\u001b[0m\n\u001b[0m\u001b[1;32m      5\u001b[0m     \u001b[0;32mbreak\u001b[0m\u001b[0;34m\u001b[0m\u001b[0;34m\u001b[0m\u001b[0m\n",
      "\u001b[0;32m/usr/local/lib/python3.6/dist-packages/torch/nn/modules/module.py\u001b[0m in \u001b[0;36m__call__\u001b[0;34m(self, *input, **kwargs)\u001b[0m\n\u001b[1;32m    548\u001b[0m             \u001b[0mresult\u001b[0m \u001b[0;34m=\u001b[0m \u001b[0mself\u001b[0m\u001b[0;34m.\u001b[0m\u001b[0m_slow_forward\u001b[0m\u001b[0;34m(\u001b[0m\u001b[0;34m*\u001b[0m\u001b[0minput\u001b[0m\u001b[0;34m,\u001b[0m \u001b[0;34m**\u001b[0m\u001b[0mkwargs\u001b[0m\u001b[0;34m)\u001b[0m\u001b[0;34m\u001b[0m\u001b[0;34m\u001b[0m\u001b[0m\n\u001b[1;32m    549\u001b[0m         \u001b[0;32melse\u001b[0m\u001b[0;34m:\u001b[0m\u001b[0;34m\u001b[0m\u001b[0;34m\u001b[0m\u001b[0m\n\u001b[0;32m--> 550\u001b[0;31m             \u001b[0mresult\u001b[0m \u001b[0;34m=\u001b[0m \u001b[0mself\u001b[0m\u001b[0;34m.\u001b[0m\u001b[0mforward\u001b[0m\u001b[0;34m(\u001b[0m\u001b[0;34m*\u001b[0m\u001b[0minput\u001b[0m\u001b[0;34m,\u001b[0m \u001b[0;34m**\u001b[0m\u001b[0mkwargs\u001b[0m\u001b[0;34m)\u001b[0m\u001b[0;34m\u001b[0m\u001b[0;34m\u001b[0m\u001b[0m\n\u001b[0m\u001b[1;32m    551\u001b[0m         \u001b[0;32mfor\u001b[0m \u001b[0mhook\u001b[0m \u001b[0;32min\u001b[0m \u001b[0mself\u001b[0m\u001b[0;34m.\u001b[0m\u001b[0m_forward_hooks\u001b[0m\u001b[0;34m.\u001b[0m\u001b[0mvalues\u001b[0m\u001b[0;34m(\u001b[0m\u001b[0;34m)\u001b[0m\u001b[0;34m:\u001b[0m\u001b[0;34m\u001b[0m\u001b[0;34m\u001b[0m\u001b[0m\n\u001b[1;32m    552\u001b[0m             \u001b[0mhook_result\u001b[0m \u001b[0;34m=\u001b[0m \u001b[0mhook\u001b[0m\u001b[0;34m(\u001b[0m\u001b[0mself\u001b[0m\u001b[0;34m,\u001b[0m \u001b[0minput\u001b[0m\u001b[0;34m,\u001b[0m \u001b[0mresult\u001b[0m\u001b[0;34m)\u001b[0m\u001b[0;34m\u001b[0m\u001b[0;34m\u001b[0m\u001b[0m\n",
      "\u001b[0;32m/usr/local/lib/python3.6/dist-packages/torch/nn/modules/linear.py\u001b[0m in \u001b[0;36mforward\u001b[0;34m(self, input)\u001b[0m\n\u001b[1;32m     85\u001b[0m \u001b[0;34m\u001b[0m\u001b[0m\n\u001b[1;32m     86\u001b[0m     \u001b[0;32mdef\u001b[0m \u001b[0mforward\u001b[0m\u001b[0;34m(\u001b[0m\u001b[0mself\u001b[0m\u001b[0;34m,\u001b[0m \u001b[0minput\u001b[0m\u001b[0;34m)\u001b[0m\u001b[0;34m:\u001b[0m\u001b[0;34m\u001b[0m\u001b[0;34m\u001b[0m\u001b[0m\n\u001b[0;32m---> 87\u001b[0;31m         \u001b[0;32mreturn\u001b[0m \u001b[0mF\u001b[0m\u001b[0;34m.\u001b[0m\u001b[0mlinear\u001b[0m\u001b[0;34m(\u001b[0m\u001b[0minput\u001b[0m\u001b[0;34m,\u001b[0m \u001b[0mself\u001b[0m\u001b[0;34m.\u001b[0m\u001b[0mweight\u001b[0m\u001b[0;34m,\u001b[0m \u001b[0mself\u001b[0m\u001b[0;34m.\u001b[0m\u001b[0mbias\u001b[0m\u001b[0;34m)\u001b[0m\u001b[0;34m\u001b[0m\u001b[0;34m\u001b[0m\u001b[0m\n\u001b[0m\u001b[1;32m     88\u001b[0m \u001b[0;34m\u001b[0m\u001b[0m\n\u001b[1;32m     89\u001b[0m     \u001b[0;32mdef\u001b[0m \u001b[0mextra_repr\u001b[0m\u001b[0;34m(\u001b[0m\u001b[0mself\u001b[0m\u001b[0;34m)\u001b[0m\u001b[0;34m:\u001b[0m\u001b[0;34m\u001b[0m\u001b[0;34m\u001b[0m\u001b[0m\n",
      "\u001b[0;32m/usr/local/lib/python3.6/dist-packages/torch/nn/functional.py\u001b[0m in \u001b[0;36mlinear\u001b[0;34m(input, weight, bias)\u001b[0m\n\u001b[1;32m   1610\u001b[0m         \u001b[0mret\u001b[0m \u001b[0;34m=\u001b[0m \u001b[0mtorch\u001b[0m\u001b[0;34m.\u001b[0m\u001b[0maddmm\u001b[0m\u001b[0;34m(\u001b[0m\u001b[0mbias\u001b[0m\u001b[0;34m,\u001b[0m \u001b[0minput\u001b[0m\u001b[0;34m,\u001b[0m \u001b[0mweight\u001b[0m\u001b[0;34m.\u001b[0m\u001b[0mt\u001b[0m\u001b[0;34m(\u001b[0m\u001b[0;34m)\u001b[0m\u001b[0;34m)\u001b[0m\u001b[0;34m\u001b[0m\u001b[0;34m\u001b[0m\u001b[0m\n\u001b[1;32m   1611\u001b[0m     \u001b[0;32melse\u001b[0m\u001b[0;34m:\u001b[0m\u001b[0;34m\u001b[0m\u001b[0;34m\u001b[0m\u001b[0m\n\u001b[0;32m-> 1612\u001b[0;31m         \u001b[0moutput\u001b[0m \u001b[0;34m=\u001b[0m \u001b[0minput\u001b[0m\u001b[0;34m.\u001b[0m\u001b[0mmatmul\u001b[0m\u001b[0;34m(\u001b[0m\u001b[0mweight\u001b[0m\u001b[0;34m.\u001b[0m\u001b[0mt\u001b[0m\u001b[0;34m(\u001b[0m\u001b[0;34m)\u001b[0m\u001b[0;34m)\u001b[0m\u001b[0;34m\u001b[0m\u001b[0;34m\u001b[0m\u001b[0m\n\u001b[0m\u001b[1;32m   1613\u001b[0m         \u001b[0;32mif\u001b[0m \u001b[0mbias\u001b[0m \u001b[0;32mis\u001b[0m \u001b[0;32mnot\u001b[0m \u001b[0;32mNone\u001b[0m\u001b[0;34m:\u001b[0m\u001b[0;34m\u001b[0m\u001b[0;34m\u001b[0m\u001b[0m\n\u001b[1;32m   1614\u001b[0m             \u001b[0moutput\u001b[0m \u001b[0;34m+=\u001b[0m \u001b[0mbias\u001b[0m\u001b[0;34m\u001b[0m\u001b[0;34m\u001b[0m\u001b[0m\n",
      "\u001b[0;31mRuntimeError\u001b[0m: size mismatch, m1: [2800 x 28], m2: [784 x 10] at /pytorch/aten/src/TH/generic/THTensorMath.cpp:41"
     ]
    }
   ],
   "source": [
    "for img,label in train_dl:\n",
    "    print(label)\n",
    "    print(img.shape)\n",
    "    pred=model(img)\n",
    "    break\n"
   ]
  },
  {
   "cell_type": "code",
   "execution_count": 0,
   "metadata": {
    "colab": {},
    "colab_type": "code",
    "id": "P_dUPlgaUubC"
   },
   "outputs": [],
   "source": [
    "class MnistModel(nn.Module):\n",
    "    def __init__(self):\n",
    "        super().__init__()\n",
    "        self.linear=nn.Linear(784,10)\n",
    "            \n",
    "    def forward(self,xb):\n",
    "        xb=xb.reshape(-1,784)\n",
    "        print(xb.shape)\n",
    "        out=self.linear(xb)\n",
    "        return out\n",
    "\n",
    "model=MnistModel()        "
   ]
  },
  {
   "cell_type": "code",
   "execution_count": 61,
   "metadata": {
    "colab": {
     "base_uri": "https://localhost:8080/",
     "height": 34
    },
    "colab_type": "code",
    "id": "_5u6puxnUubF",
    "outputId": "4ce9be83-ba32-43a5-e404-677bf2a6abeb"
   },
   "outputs": [
    {
     "name": "stdout",
     "output_type": "stream",
     "text": [
      "torch.Size([100, 784])\n"
     ]
    }
   ],
   "source": [
    "for img,label in train_dl:\n",
    "    op=model(img)\n",
    "    l=label\n",
    "    break\n",
    "    "
   ]
  },
  {
   "cell_type": "markdown",
   "metadata": {
    "colab_type": "text",
    "id": "xOXAm9zKUubI"
   },
   "source": [
    "## Softmax"
   ]
  },
  {
   "cell_type": "markdown",
   "metadata": {
    "colab_type": "text",
    "id": "G0U2YuaIUubI"
   },
   "source": [
    "\n",
    "the soft max function is used to normalize the data\n",
    "1. when we actually predict the values using LinearReg it's predicting the value and not classifing it.\n",
    "\n",
    "2. so with soft max we first reduce the predictedd value to value b/w 0 and 1 because probablity is either it happens or not so in classification it's either it's the image or not.\n",
    "\n",
    "3. And each element of the row must be b/w 0 and 1 and when we add all the elements of that predicted row it must be = 1\n",
    "\n",
    "4. e= eulars constant 2.718\n",
    "\n",
    "5. soft max = y(predicted values)=> e**y/E e**y\n",
    "5. that is y is each individual element in the array and E e**y is sum of all the elements in the tensor e**y"
   ]
  },
  {
   "cell_type": "code",
   "execution_count": 62,
   "metadata": {
    "colab": {
     "base_uri": "https://localhost:8080/",
     "height": 51
    },
    "colab_type": "code",
    "id": "gghfdz8aUubJ",
    "outputId": "29e86cc2-6b62-4ed6-ef29-b65faa8ae05f"
   },
   "outputs": [
    {
     "data": {
      "text/plain": [
       "tensor([ 0.1502, -0.0670, -0.0833,  0.0288,  0.2618, -0.0524,  0.0199, -0.2440,\n",
       "        -0.0896,  0.4333], grad_fn=<SelectBackward>)"
      ]
     },
     "execution_count": 62,
     "metadata": {
      "tags": []
     },
     "output_type": "execute_result"
    }
   ],
   "source": [
    "val=op[0]\n",
    "val"
   ]
  },
  {
   "cell_type": "code",
   "execution_count": 0,
   "metadata": {
    "colab": {},
    "colab_type": "code",
    "id": "SNfp6dJvUubL"
   },
   "outputs": [],
   "source": [
    "exp=torch.exp(val)\n",
    "# exp is to raise e to the power of each element in the val tensor"
   ]
  },
  {
   "cell_type": "code",
   "execution_count": 0,
   "metadata": {
    "colab": {},
    "colab_type": "code",
    "id": "avF5VSBtUubP"
   },
   "outputs": [],
   "source": [
    "prob=exp/torch.sum(exp)"
   ]
  },
  {
   "cell_type": "code",
   "execution_count": 65,
   "metadata": {
    "colab": {
     "base_uri": "https://localhost:8080/",
     "height": 34
    },
    "colab_type": "code",
    "id": "_0WhxzUEUubT",
    "outputId": "813d7bfb-083d-494f-c8ff-975629ceca85"
   },
   "outputs": [
    {
     "data": {
      "text/plain": [
       "tensor(1., grad_fn=<SumBackward0>)"
      ]
     },
     "execution_count": 65,
     "metadata": {
      "tags": []
     },
     "output_type": "execute_result"
    }
   ],
   "source": [
    "torch.sum(prob)"
   ]
  },
  {
   "cell_type": "code",
   "execution_count": 66,
   "metadata": {
    "colab": {
     "base_uri": "https://localhost:8080/",
     "height": 51
    },
    "colab_type": "code",
    "id": "yE7fVhZRUubW",
    "outputId": "fbf18046-7fb0-4757-fbc1-2864057a1e5b"
   },
   "outputs": [
    {
     "data": {
      "text/plain": [
       "tensor([0.1101, 0.0886, 0.0872, 0.0975, 0.1231, 0.0899, 0.0966, 0.0742, 0.0866,\n",
       "        0.1461], grad_fn=<DivBackward0>)"
      ]
     },
     "execution_count": 66,
     "metadata": {
      "tags": []
     },
     "output_type": "execute_result"
    }
   ],
   "source": [
    "prob"
   ]
  },
  {
   "cell_type": "markdown",
   "metadata": {
    "colab_type": "text",
    "id": "tCUJNgjbUuba"
   },
   "source": [
    "## pytorch softmax"
   ]
  },
  {
   "cell_type": "code",
   "execution_count": 0,
   "metadata": {
    "colab": {},
    "colab_type": "code",
    "id": "OxyrrXE0Uubb"
   },
   "outputs": [],
   "source": [
    "import torch.nn.functional as f"
   ]
  },
  {
   "cell_type": "code",
   "execution_count": 68,
   "metadata": {
    "colab": {
     "base_uri": "https://localhost:8080/",
     "height": 1000
    },
    "colab_type": "code",
    "id": "fcjkPTwKUubf",
    "outputId": "1cfc980f-d04c-4c35-f481-8c0f85138e9e",
    "scrolled": false
   },
   "outputs": [
    {
     "data": {
      "text/plain": [
       "tensor([[0.1101, 0.0886, 0.0872, 0.0975, 0.1231, 0.0899, 0.0966, 0.0742, 0.0866,\n",
       "         0.1461],\n",
       "        [0.1058, 0.0783, 0.0895, 0.0943, 0.1240, 0.1060, 0.1008, 0.1031, 0.0743,\n",
       "         0.1238],\n",
       "        [0.1062, 0.0725, 0.0770, 0.0940, 0.1060, 0.1277, 0.1016, 0.0750, 0.1191,\n",
       "         0.1207],\n",
       "        [0.1152, 0.0713, 0.0938, 0.0993, 0.1143, 0.1117, 0.0832, 0.0924, 0.1025,\n",
       "         0.1163],\n",
       "        [0.1138, 0.0670, 0.0934, 0.0864, 0.1140, 0.1128, 0.0845, 0.0819, 0.1164,\n",
       "         0.1297],\n",
       "        [0.1254, 0.0880, 0.0918, 0.1022, 0.0854, 0.1072, 0.0742, 0.0880, 0.0835,\n",
       "         0.1543],\n",
       "        [0.1304, 0.0817, 0.1083, 0.0723, 0.1116, 0.1122, 0.1039, 0.0822, 0.0954,\n",
       "         0.1020],\n",
       "        [0.1067, 0.0902, 0.1108, 0.0915, 0.1147, 0.0960, 0.1102, 0.0840, 0.0922,\n",
       "         0.1038],\n",
       "        [0.1245, 0.0934, 0.1189, 0.0625, 0.1028, 0.1069, 0.0952, 0.1010, 0.0914,\n",
       "         0.1034],\n",
       "        [0.1309, 0.0900, 0.0943, 0.1065, 0.0874, 0.1254, 0.0957, 0.0739, 0.0836,\n",
       "         0.1122],\n",
       "        [0.1152, 0.0699, 0.0895, 0.0855, 0.1181, 0.1380, 0.0960, 0.0706, 0.1026,\n",
       "         0.1147],\n",
       "        [0.1008, 0.0733, 0.1076, 0.1171, 0.1205, 0.1221, 0.0824, 0.0917, 0.0799,\n",
       "         0.1046],\n",
       "        [0.1380, 0.1000, 0.0870, 0.1212, 0.0975, 0.0953, 0.0820, 0.0829, 0.0756,\n",
       "         0.1206],\n",
       "        [0.1184, 0.0988, 0.1068, 0.0829, 0.1016, 0.0954, 0.1004, 0.1031, 0.1010,\n",
       "         0.0915],\n",
       "        [0.1211, 0.0952, 0.1032, 0.1048, 0.1019, 0.1114, 0.0787, 0.0857, 0.0878,\n",
       "         0.1103],\n",
       "        [0.0999, 0.0659, 0.0776, 0.0798, 0.1320, 0.1114, 0.1079, 0.0881, 0.0963,\n",
       "         0.1412],\n",
       "        [0.1287, 0.0744, 0.0952, 0.0883, 0.1178, 0.0842, 0.0969, 0.1059, 0.0910,\n",
       "         0.1176],\n",
       "        [0.1271, 0.0968, 0.0891, 0.0967, 0.1168, 0.1098, 0.0744, 0.0913, 0.0824,\n",
       "         0.1155],\n",
       "        [0.1519, 0.0853, 0.0898, 0.0877, 0.1128, 0.1116, 0.0845, 0.0886, 0.0807,\n",
       "         0.1070],\n",
       "        [0.1090, 0.1033, 0.0886, 0.0813, 0.1070, 0.0969, 0.1134, 0.1007, 0.0923,\n",
       "         0.1075],\n",
       "        [0.1231, 0.0939, 0.1069, 0.0726, 0.1074, 0.1038, 0.1078, 0.0908, 0.0946,\n",
       "         0.0992],\n",
       "        [0.1397, 0.0807, 0.1041, 0.0825, 0.1010, 0.0956, 0.1078, 0.0770, 0.1018,\n",
       "         0.1098],\n",
       "        [0.1073, 0.0784, 0.1017, 0.0953, 0.1354, 0.1029, 0.0844, 0.0656, 0.0979,\n",
       "         0.1310],\n",
       "        [0.1008, 0.0797, 0.1013, 0.0971, 0.1101, 0.1044, 0.1097, 0.0926, 0.0862,\n",
       "         0.1182],\n",
       "        [0.1461, 0.0780, 0.0948, 0.0931, 0.1112, 0.1038, 0.0890, 0.0898, 0.0824,\n",
       "         0.1119],\n",
       "        [0.1286, 0.0836, 0.1014, 0.0802, 0.1295, 0.1058, 0.0979, 0.0885, 0.0770,\n",
       "         0.1074],\n",
       "        [0.1266, 0.0875, 0.0699, 0.0672, 0.1418, 0.1529, 0.0922, 0.0850, 0.0806,\n",
       "         0.0964],\n",
       "        [0.1216, 0.0906, 0.0851, 0.1017, 0.1024, 0.1094, 0.0947, 0.0740, 0.0836,\n",
       "         0.1368],\n",
       "        [0.1091, 0.0802, 0.0864, 0.0982, 0.0950, 0.1005, 0.1076, 0.1047, 0.0960,\n",
       "         0.1224],\n",
       "        [0.1100, 0.0928, 0.1062, 0.0811, 0.0994, 0.1031, 0.0963, 0.1080, 0.0949,\n",
       "         0.1080],\n",
       "        [0.1087, 0.0888, 0.0942, 0.0912, 0.1246, 0.1250, 0.0942, 0.1006, 0.0785,\n",
       "         0.0942],\n",
       "        [0.1142, 0.0768, 0.1234, 0.1057, 0.1215, 0.0902, 0.0853, 0.0659, 0.0852,\n",
       "         0.1319],\n",
       "        [0.1103, 0.0597, 0.0855, 0.0711, 0.1472, 0.1281, 0.1035, 0.0837, 0.0979,\n",
       "         0.1129],\n",
       "        [0.1374, 0.0849, 0.1044, 0.0635, 0.1298, 0.1344, 0.0871, 0.0726, 0.0751,\n",
       "         0.1109],\n",
       "        [0.1250, 0.0768, 0.0777, 0.1025, 0.1338, 0.0912, 0.0984, 0.0930, 0.0971,\n",
       "         0.1044],\n",
       "        [0.1143, 0.0887, 0.1069, 0.0856, 0.1112, 0.1066, 0.1003, 0.0840, 0.1030,\n",
       "         0.0994],\n",
       "        [0.0876, 0.0703, 0.0994, 0.0828, 0.1409, 0.1039, 0.1104, 0.0859, 0.0855,\n",
       "         0.1333],\n",
       "        [0.1112, 0.0810, 0.1173, 0.0770, 0.0900, 0.1022, 0.1054, 0.1011, 0.1082,\n",
       "         0.1068],\n",
       "        [0.0827, 0.0754, 0.1106, 0.0848, 0.1120, 0.1145, 0.1015, 0.0904, 0.0977,\n",
       "         0.1304],\n",
       "        [0.1174, 0.1035, 0.1014, 0.0760, 0.1242, 0.1178, 0.0912, 0.0790, 0.0919,\n",
       "         0.0976],\n",
       "        [0.1038, 0.0649, 0.0915, 0.0872, 0.1223, 0.1154, 0.1172, 0.0817, 0.0868,\n",
       "         0.1293],\n",
       "        [0.1104, 0.0817, 0.0853, 0.0669, 0.1202, 0.1254, 0.1092, 0.0800, 0.1056,\n",
       "         0.1152],\n",
       "        [0.1039, 0.0836, 0.1180, 0.0802, 0.1060, 0.1053, 0.1016, 0.0887, 0.0849,\n",
       "         0.1278],\n",
       "        [0.1195, 0.0617, 0.0913, 0.1178, 0.1113, 0.1108, 0.0760, 0.0969, 0.1022,\n",
       "         0.1124],\n",
       "        [0.1138, 0.0984, 0.1042, 0.0778, 0.1156, 0.0964, 0.1159, 0.0714, 0.0862,\n",
       "         0.1202],\n",
       "        [0.1182, 0.0781, 0.1011, 0.0760, 0.1011, 0.1765, 0.0752, 0.0786, 0.1068,\n",
       "         0.0883],\n",
       "        [0.1117, 0.0899, 0.0933, 0.0864, 0.1116, 0.1176, 0.0908, 0.1071, 0.0890,\n",
       "         0.1024],\n",
       "        [0.1358, 0.0725, 0.0895, 0.0679, 0.1113, 0.1589, 0.0885, 0.0787, 0.0649,\n",
       "         0.1319],\n",
       "        [0.1273, 0.0909, 0.1050, 0.0886, 0.1150, 0.1008, 0.0910, 0.0759, 0.0999,\n",
       "         0.1057],\n",
       "        [0.0969, 0.0631, 0.0802, 0.0864, 0.1328, 0.1215, 0.1025, 0.0771, 0.1018,\n",
       "         0.1378],\n",
       "        [0.1147, 0.0845, 0.1003, 0.0807, 0.1127, 0.1193, 0.1057, 0.0820, 0.1012,\n",
       "         0.0989],\n",
       "        [0.1185, 0.0710, 0.0994, 0.0876, 0.1141, 0.0986, 0.1228, 0.0896, 0.0811,\n",
       "         0.1174],\n",
       "        [0.1097, 0.0823, 0.0880, 0.0868, 0.1161, 0.1240, 0.0894, 0.0847, 0.0983,\n",
       "         0.1207],\n",
       "        [0.0900, 0.0588, 0.0942, 0.1031, 0.1538, 0.1165, 0.0915, 0.1055, 0.0714,\n",
       "         0.1152],\n",
       "        [0.0891, 0.0699, 0.1089, 0.1162, 0.0798, 0.1226, 0.0904, 0.0707, 0.1052,\n",
       "         0.1474],\n",
       "        [0.0935, 0.0948, 0.0793, 0.0952, 0.1087, 0.1353, 0.1032, 0.1007, 0.0859,\n",
       "         0.1033],\n",
       "        [0.1174, 0.1208, 0.0914, 0.0924, 0.1026, 0.1034, 0.0968, 0.0846, 0.0771,\n",
       "         0.1135],\n",
       "        [0.1351, 0.0813, 0.1007, 0.0731, 0.1031, 0.1115, 0.1118, 0.0876, 0.0924,\n",
       "         0.1035],\n",
       "        [0.1155, 0.0904, 0.1076, 0.0824, 0.1055, 0.1078, 0.1079, 0.0837, 0.0997,\n",
       "         0.0994],\n",
       "        [0.1027, 0.0825, 0.1000, 0.0894, 0.1120, 0.1287, 0.0965, 0.0841, 0.0903,\n",
       "         0.1139],\n",
       "        [0.0905, 0.0986, 0.0819, 0.0751, 0.1460, 0.0881, 0.1092, 0.1046, 0.1034,\n",
       "         0.1028],\n",
       "        [0.0841, 0.0656, 0.0937, 0.0969, 0.1223, 0.1322, 0.0865, 0.0670, 0.1224,\n",
       "         0.1293],\n",
       "        [0.1000, 0.0796, 0.1015, 0.0749, 0.1222, 0.1331, 0.0884, 0.1014, 0.1057,\n",
       "         0.0932],\n",
       "        [0.1024, 0.1176, 0.0819, 0.0749, 0.1040, 0.1324, 0.1102, 0.0915, 0.0963,\n",
       "         0.0889],\n",
       "        [0.1029, 0.0642, 0.0774, 0.0876, 0.1222, 0.1180, 0.0983, 0.0820, 0.1148,\n",
       "         0.1327],\n",
       "        [0.1101, 0.0764, 0.0830, 0.0764, 0.1234, 0.1453, 0.0944, 0.0728, 0.0937,\n",
       "         0.1245],\n",
       "        [0.1044, 0.0826, 0.1011, 0.0853, 0.1146, 0.1222, 0.0999, 0.0967, 0.0882,\n",
       "         0.1049],\n",
       "        [0.1017, 0.0508, 0.0822, 0.0916, 0.1395, 0.1409, 0.0882, 0.0836, 0.0936,\n",
       "         0.1279],\n",
       "        [0.1058, 0.0936, 0.0912, 0.0618, 0.1208, 0.1346, 0.0835, 0.0954, 0.1015,\n",
       "         0.1117],\n",
       "        [0.1540, 0.0828, 0.0870, 0.0847, 0.0916, 0.1352, 0.0871, 0.0791, 0.0928,\n",
       "         0.1057],\n",
       "        [0.1077, 0.0841, 0.1013, 0.1028, 0.0993, 0.1449, 0.0804, 0.0901, 0.0789,\n",
       "         0.1107],\n",
       "        [0.1220, 0.0888, 0.1122, 0.0783, 0.1017, 0.0925, 0.0920, 0.1038, 0.1058,\n",
       "         0.1029],\n",
       "        [0.0935, 0.0750, 0.1044, 0.1040, 0.1041, 0.1362, 0.0860, 0.0770, 0.0990,\n",
       "         0.1208],\n",
       "        [0.0979, 0.0844, 0.0910, 0.0807, 0.1150, 0.1179, 0.0882, 0.0956, 0.1008,\n",
       "         0.1283],\n",
       "        [0.1519, 0.0927, 0.0867, 0.0945, 0.0967, 0.1198, 0.1047, 0.0818, 0.0568,\n",
       "         0.1144],\n",
       "        [0.1209, 0.0702, 0.0874, 0.1048, 0.1158, 0.1183, 0.1148, 0.0869, 0.0761,\n",
       "         0.1048],\n",
       "        [0.0973, 0.0750, 0.0995, 0.0992, 0.0963, 0.1282, 0.0869, 0.0977, 0.0890,\n",
       "         0.1310],\n",
       "        [0.0890, 0.0690, 0.0857, 0.0807, 0.1229, 0.1134, 0.0910, 0.0982, 0.1132,\n",
       "         0.1368],\n",
       "        [0.1072, 0.0760, 0.0881, 0.0750, 0.1245, 0.0992, 0.1128, 0.0912, 0.1003,\n",
       "         0.1258],\n",
       "        [0.1565, 0.0748, 0.0889, 0.1134, 0.0817, 0.1170, 0.0728, 0.0714, 0.0966,\n",
       "         0.1268],\n",
       "        [0.0920, 0.0716, 0.0921, 0.0759, 0.1229, 0.1486, 0.0814, 0.0750, 0.0941,\n",
       "         0.1466],\n",
       "        [0.1147, 0.1010, 0.0975, 0.0746, 0.1027, 0.1163, 0.1124, 0.0914, 0.0943,\n",
       "         0.0952],\n",
       "        [0.1086, 0.0917, 0.1066, 0.1001, 0.0953, 0.1175, 0.0798, 0.0942, 0.0917,\n",
       "         0.1145],\n",
       "        [0.1239, 0.0909, 0.0802, 0.0769, 0.1150, 0.1154, 0.0907, 0.0873, 0.1209,\n",
       "         0.0988],\n",
       "        [0.1102, 0.0876, 0.1167, 0.0754, 0.0864, 0.0946, 0.1099, 0.1082, 0.1065,\n",
       "         0.1045],\n",
       "        [0.1270, 0.0814, 0.1080, 0.0792, 0.1085, 0.1210, 0.1055, 0.0831, 0.0955,\n",
       "         0.0908],\n",
       "        [0.1044, 0.0661, 0.0822, 0.0826, 0.1188, 0.1073, 0.0961, 0.0894, 0.1159,\n",
       "         0.1371],\n",
       "        [0.0847, 0.0791, 0.0897, 0.1026, 0.1228, 0.1080, 0.0750, 0.0882, 0.1026,\n",
       "         0.1473],\n",
       "        [0.0974, 0.0649, 0.1050, 0.0930, 0.1218, 0.1146, 0.1139, 0.0932, 0.0828,\n",
       "         0.1134],\n",
       "        [0.0943, 0.0758, 0.1053, 0.0951, 0.1100, 0.1090, 0.1032, 0.0831, 0.1146,\n",
       "         0.1096],\n",
       "        [0.1120, 0.0984, 0.0997, 0.0873, 0.1360, 0.1100, 0.0710, 0.0816, 0.0894,\n",
       "         0.1146],\n",
       "        [0.1223, 0.0853, 0.0880, 0.0596, 0.1431, 0.1091, 0.1038, 0.0843, 0.1011,\n",
       "         0.1032],\n",
       "        [0.1372, 0.0929, 0.0878, 0.0928, 0.1282, 0.1075, 0.1030, 0.0804, 0.0658,\n",
       "         0.1044],\n",
       "        [0.1114, 0.1023, 0.0930, 0.0794, 0.1087, 0.1082, 0.1128, 0.0983, 0.0865,\n",
       "         0.0993],\n",
       "        [0.1448, 0.0843, 0.1097, 0.0707, 0.1033, 0.1047, 0.0971, 0.0752, 0.1036,\n",
       "         0.1066],\n",
       "        [0.0884, 0.0672, 0.0857, 0.0809, 0.1111, 0.1184, 0.0880, 0.0864, 0.1477,\n",
       "         0.1262],\n",
       "        [0.0937, 0.0756, 0.0940, 0.0777, 0.1066, 0.1073, 0.1149, 0.0915, 0.1055,\n",
       "         0.1331],\n",
       "        [0.1063, 0.0718, 0.0846, 0.0769, 0.1233, 0.1166, 0.0932, 0.0890, 0.0987,\n",
       "         0.1396],\n",
       "        [0.1130, 0.0846, 0.1183, 0.0719, 0.1000, 0.1019, 0.1108, 0.0948, 0.0961,\n",
       "         0.1088],\n",
       "        [0.1258, 0.0806, 0.1111, 0.0726, 0.0984, 0.1020, 0.1017, 0.0880, 0.1046,\n",
       "         0.1153]], grad_fn=<SoftmaxBackward>)"
      ]
     },
     "execution_count": 68,
     "metadata": {
      "tags": []
     },
     "output_type": "execute_result"
    }
   ],
   "source": [
    "prob=f.softmax(op,dim=1)\n",
    "prob"
   ]
  },
  {
   "cell_type": "code",
   "execution_count": 0,
   "metadata": {
    "colab": {},
    "colab_type": "code",
    "id": "85gV3O55Uubl"
   },
   "outputs": [],
   "source": [
    "max_pred,index_of_ele=torch.max(prob,dim=1)"
   ]
  },
  {
   "cell_type": "code",
   "execution_count": 70,
   "metadata": {
    "colab": {
     "base_uri": "https://localhost:8080/",
     "height": 221
    },
    "colab_type": "code",
    "id": "M5c1hLXuUubq",
    "outputId": "f930236d-2790-4aa3-905c-35f11fe9e166"
   },
   "outputs": [
    {
     "data": {
      "text/plain": [
       "tensor([0.1461, 0.1240, 0.1277, 0.1163, 0.1297, 0.1543, 0.1304, 0.1147, 0.1245,\n",
       "        0.1309, 0.1380, 0.1221, 0.1380, 0.1184, 0.1211, 0.1412, 0.1287, 0.1271,\n",
       "        0.1519, 0.1134, 0.1231, 0.1397, 0.1354, 0.1182, 0.1461, 0.1295, 0.1529,\n",
       "        0.1368, 0.1224, 0.1100, 0.1250, 0.1319, 0.1472, 0.1374, 0.1338, 0.1143,\n",
       "        0.1409, 0.1173, 0.1304, 0.1242, 0.1293, 0.1254, 0.1278, 0.1195, 0.1202,\n",
       "        0.1765, 0.1176, 0.1589, 0.1273, 0.1378, 0.1193, 0.1228, 0.1240, 0.1538,\n",
       "        0.1474, 0.1353, 0.1208, 0.1351, 0.1155, 0.1287, 0.1460, 0.1322, 0.1331,\n",
       "        0.1324, 0.1327, 0.1453, 0.1222, 0.1409, 0.1346, 0.1540, 0.1449, 0.1220,\n",
       "        0.1362, 0.1283, 0.1519, 0.1209, 0.1310, 0.1368, 0.1258, 0.1565, 0.1486,\n",
       "        0.1163, 0.1175, 0.1239, 0.1167, 0.1270, 0.1371, 0.1473, 0.1218, 0.1146,\n",
       "        0.1360, 0.1431, 0.1372, 0.1128, 0.1448, 0.1477, 0.1331, 0.1396, 0.1183,\n",
       "        0.1258], grad_fn=<MaxBackward0>)"
      ]
     },
     "execution_count": 70,
     "metadata": {
      "tags": []
     },
     "output_type": "execute_result"
    }
   ],
   "source": [
    "max_pred"
   ]
  },
  {
   "cell_type": "code",
   "execution_count": 71,
   "metadata": {
    "colab": {
     "base_uri": "https://localhost:8080/",
     "height": 102
    },
    "colab_type": "code",
    "id": "7pRGRYapUubt",
    "outputId": "513754f8-099e-485c-e54b-0c31cceb4468"
   },
   "outputs": [
    {
     "data": {
      "text/plain": [
       "tensor([9, 4, 5, 9, 9, 9, 0, 4, 0, 0, 5, 5, 0, 0, 0, 9, 0, 0, 0, 6, 0, 0, 4, 9,\n",
       "        0, 4, 5, 9, 9, 0, 5, 9, 4, 0, 4, 0, 4, 2, 9, 4, 9, 5, 9, 0, 9, 5, 5, 5,\n",
       "        0, 9, 5, 6, 5, 4, 9, 5, 1, 0, 0, 5, 4, 5, 5, 5, 9, 5, 5, 5, 5, 0, 5, 0,\n",
       "        5, 9, 0, 0, 9, 9, 9, 0, 5, 5, 5, 0, 2, 0, 9, 9, 4, 8, 4, 4, 0, 6, 0, 8,\n",
       "        9, 9, 2, 0])"
      ]
     },
     "execution_count": 71,
     "metadata": {
      "tags": []
     },
     "output_type": "execute_result"
    }
   ],
   "source": [
    "# this the index of the max prob elements that was predicted\n",
    "index_of_ele\n"
   ]
  },
  {
   "cell_type": "code",
   "execution_count": 72,
   "metadata": {
    "colab": {
     "base_uri": "https://localhost:8080/",
     "height": 102
    },
    "colab_type": "code",
    "id": "92CHtZAFUubz",
    "outputId": "23897a2d-8d9a-4d21-b206-886b2ef7c3fe"
   },
   "outputs": [
    {
     "data": {
      "text/plain": [
       "tensor([5, 9, 7, 4, 7, 0, 1, 5, 5, 0, 7, 4, 5, 1, 4, 9, 0, 0, 0, 1, 1, 7, 0, 8,\n",
       "        0, 0, 3, 0, 4, 1, 9, 0, 4, 3, 9, 1, 8, 1, 7, 3, 9, 1, 7, 4, 5, 6, 4, 0,\n",
       "        0, 9, 1, 9, 7, 4, 5, 2, 2, 3, 1, 5, 8, 9, 3, 3, 7, 8, 3, 4, 8, 0, 9, 1,\n",
       "        6, 9, 0, 4, 6, 9, 7, 0, 0, 1, 6, 7, 1, 1, 9, 7, 6, 5, 0, 3, 0, 1, 1, 9,\n",
       "        7, 9, 1, 1])"
      ]
     },
     "execution_count": 72,
     "metadata": {
      "tags": []
     },
     "output_type": "execute_result"
    }
   ],
   "source": [
    "# this the data label passed for the 100 images by the dataloader\n",
    "l\n"
   ]
  },
  {
   "cell_type": "markdown",
   "metadata": {
    "colab_type": "text",
    "id": "K4RUNg-mUub4"
   },
   "source": [
    "### Accuracy : is calculated by dividing the total number of true or correct outcomes by the total sample space"
   ]
  },
  {
   "cell_type": "code",
   "execution_count": 1,
   "metadata": {
    "colab": {},
    "colab_type": "code",
    "id": "2G9G6FXfUub4"
   },
   "outputs": [],
   "source": [
    "def accuracy(xb,label):\n",
    "    _pred=torch.max(xb)\n",
    "    return torch.sum(pred==label).item()/len(label)"
   ]
  },
  {
   "cell_type": "code",
   "execution_count": 0,
   "metadata": {
    "colab": {},
    "colab_type": "code",
    "id": "kx7bNQ9dUub9"
   },
   "outputs": [],
   "source": [
    "loss=nn.functional.cross_entropy(op,l)"
   ]
  },
  {
   "cell_type": "markdown",
   "metadata": {
    "colab_type": "text",
    "id": "Zl29khzhUucA"
   },
   "source": [
    "## implementation of cross entropy using numpy"
   ]
  },
  {
   "cell_type": "code",
   "execution_count": 0,
   "metadata": {
    "colab": {},
    "colab_type": "code",
    "id": "faw1GSdKUucB"
   },
   "outputs": [],
   "source": [
    "# values/ label is hot encoded\n",
    "def cE(actual,pred):\n",
    "    loss=-np.sum(actual*np.log(pred))\n",
    "    return loss"
   ]
  },
  {
   "cell_type": "code",
   "execution_count": 0,
   "metadata": {
    "colab": {},
    "colab_type": "code",
    "id": "-605c3oRUucF"
   },
   "outputs": [],
   "source": [
    "lm=np.array([1,0,0])\n",
    "bad_pred=np.array([0.1,0.2,0.7])\n",
    "good_pred=np.array([0.7,0.2,0.1])"
   ]
  },
  {
   "cell_type": "code",
   "execution_count": 77,
   "metadata": {
    "colab": {
     "base_uri": "https://localhost:8080/",
     "height": 34
    },
    "colab_type": "code",
    "id": "YI61sEUOUucI",
    "outputId": "f550c9e7-a3c3-4df9-9bce-0125aad5631e"
   },
   "outputs": [
    {
     "data": {
      "text/plain": [
       "2.3025850929940455"
      ]
     },
     "execution_count": 77,
     "metadata": {
      "tags": []
     },
     "output_type": "execute_result"
    }
   ],
   "source": [
    "cE(lm,bad_pred)"
   ]
  },
  {
   "cell_type": "code",
   "execution_count": 78,
   "metadata": {
    "colab": {
     "base_uri": "https://localhost:8080/",
     "height": 34
    },
    "colab_type": "code",
    "id": "8UYbsrVXUucM",
    "outputId": "7c5a6748-6c7f-4e10-ed28-6c6d59a708a5"
   },
   "outputs": [
    {
     "data": {
      "text/plain": [
       "0.35667494393873245"
      ]
     },
     "execution_count": 78,
     "metadata": {
      "tags": []
     },
     "output_type": "execute_result"
    }
   ],
   "source": [
    "cE(lm,good_pred)"
   ]
  },
  {
   "cell_type": "markdown",
   "metadata": {
    "colab_type": "text",
    "id": "x--wKOlYUucO"
   },
   "source": [
    "\n",
    "## cross entropy using inbuilt function"
   ]
  },
  {
   "cell_type": "code",
   "execution_count": 0,
   "metadata": {
    "colab": {},
    "colab_type": "code",
    "id": "1CzMOM8TUucP"
   },
   "outputs": [],
   "source": [
    "loss=nn.functional.cross_entropy"
   ]
  },
  {
   "cell_type": "code",
   "execution_count": 0,
   "metadata": {
    "colab": {},
    "colab_type": "code",
    "id": "atWfF0FiUucV"
   },
   "outputs": [],
   "source": [
    "ls=loss(op,l)"
   ]
  },
  {
   "cell_type": "code",
   "execution_count": 0,
   "metadata": {
    "colab": {},
    "colab_type": "code",
    "id": "wlu-CnR-Uuca"
   },
   "outputs": [],
   "source": [
    "def fit(epoch,model,lossfunc,train_dl,val_dl,lre,opt=torch.optim.SGD):\n",
    "    opt=opt(model.parameters(),lr=lre)\n",
    "    for i in range(epoch):\n",
    "        for img,label in train_dl:\n",
    "            pred=model(img)\n",
    "            loss=lossfunc(pred,label)\n",
    "            loss.backward()\n",
    "            opt.step()\n",
    "            opt.zero_grad()\n",
    "            acc=\n",
    "        return loss\n",
    "        "
   ]
  },
  {
   "cell_type": "code",
   "execution_count": 0,
   "metadata": {
    "colab": {},
    "colab_type": "code",
    "id": "Drh1fKZaUuce"
   },
   "outputs": [],
   "source": [
    "class Mnistmodel(nn.Module):\n",
    "    def __init__(self):\n",
    "        super().__init__()\n",
    "        self.linear=nn.Linear(784,10)\n",
    "    def forward(self,xb):\n",
    "        xb=xb.reshape(-1,784)\n",
    "        out=self.linear(xb)\n",
    "        return out\n",
    "    "
   ]
  },
  {
   "cell_type": "code",
   "execution_count": 0,
   "metadata": {
    "colab": {},
    "colab_type": "code",
    "id": "uNp734wUUuck"
   },
   "outputs": [],
   "source": [
    "model=MnistModel()"
   ]
  },
  {
   "cell_type": "code",
   "execution_count": 88,
   "metadata": {
    "colab": {
     "base_uri": "https://localhost:8080/",
     "height": 1000
    },
    "colab_type": "code",
    "id": "3TEgqMNlUuct",
    "outputId": "296a3c1a-62ee-4fe8-d8cd-6cad2a1d1ce1"
   },
   "outputs": [
    {
     "name": "stdout",
     "output_type": "stream",
     "text": [
      "torch.Size([100, 784])\n",
      "torch.Size([100, 784])\n",
      "torch.Size([100, 784])\n",
      "torch.Size([100, 784])\n",
      "torch.Size([100, 784])\n",
      "torch.Size([100, 784])\n",
      "torch.Size([100, 784])\n",
      "torch.Size([100, 784])\n",
      "torch.Size([100, 784])\n",
      "torch.Size([100, 784])\n",
      "torch.Size([100, 784])\n",
      "torch.Size([100, 784])\n",
      "torch.Size([100, 784])\n",
      "torch.Size([100, 784])\n",
      "torch.Size([100, 784])\n",
      "torch.Size([100, 784])\n",
      "torch.Size([100, 784])\n",
      "torch.Size([100, 784])\n",
      "torch.Size([100, 784])\n",
      "torch.Size([100, 784])\n",
      "torch.Size([100, 784])\n",
      "torch.Size([100, 784])\n",
      "torch.Size([100, 784])\n",
      "torch.Size([100, 784])\n",
      "torch.Size([100, 784])\n",
      "torch.Size([100, 784])\n",
      "torch.Size([100, 784])\n",
      "torch.Size([100, 784])\n",
      "torch.Size([100, 784])\n",
      "torch.Size([100, 784])\n",
      "torch.Size([100, 784])\n",
      "torch.Size([100, 784])\n",
      "torch.Size([100, 784])\n",
      "torch.Size([100, 784])\n",
      "torch.Size([100, 784])\n",
      "torch.Size([100, 784])\n",
      "torch.Size([100, 784])\n",
      "torch.Size([100, 784])\n",
      "torch.Size([100, 784])\n",
      "torch.Size([100, 784])\n",
      "torch.Size([100, 784])\n",
      "torch.Size([100, 784])\n",
      "torch.Size([100, 784])\n",
      "torch.Size([100, 784])\n",
      "torch.Size([100, 784])\n",
      "torch.Size([100, 784])\n",
      "torch.Size([100, 784])\n",
      "torch.Size([100, 784])\n",
      "torch.Size([100, 784])\n",
      "torch.Size([100, 784])\n",
      "torch.Size([100, 784])\n",
      "torch.Size([100, 784])\n",
      "torch.Size([100, 784])\n",
      "torch.Size([100, 784])\n",
      "torch.Size([100, 784])\n",
      "torch.Size([100, 784])\n",
      "torch.Size([100, 784])\n",
      "torch.Size([100, 784])\n",
      "torch.Size([100, 784])\n",
      "torch.Size([100, 784])\n",
      "torch.Size([100, 784])\n",
      "torch.Size([100, 784])\n",
      "torch.Size([100, 784])\n",
      "torch.Size([100, 784])\n",
      "torch.Size([100, 784])\n",
      "torch.Size([100, 784])\n",
      "torch.Size([100, 784])\n",
      "torch.Size([100, 784])\n",
      "torch.Size([100, 784])\n",
      "torch.Size([100, 784])\n",
      "torch.Size([100, 784])\n",
      "torch.Size([100, 784])\n",
      "torch.Size([100, 784])\n",
      "torch.Size([100, 784])\n",
      "torch.Size([100, 784])\n",
      "torch.Size([100, 784])\n",
      "torch.Size([100, 784])\n",
      "torch.Size([100, 784])\n",
      "torch.Size([100, 784])\n",
      "torch.Size([100, 784])\n",
      "torch.Size([100, 784])\n",
      "torch.Size([100, 784])\n",
      "torch.Size([100, 784])\n",
      "torch.Size([100, 784])\n",
      "torch.Size([100, 784])\n",
      "torch.Size([100, 784])\n",
      "torch.Size([100, 784])\n",
      "torch.Size([100, 784])\n",
      "torch.Size([100, 784])\n",
      "torch.Size([100, 784])\n",
      "torch.Size([100, 784])\n",
      "torch.Size([100, 784])\n",
      "torch.Size([100, 784])\n",
      "torch.Size([100, 784])\n",
      "torch.Size([100, 784])\n",
      "torch.Size([100, 784])\n",
      "torch.Size([100, 784])\n",
      "torch.Size([100, 784])\n",
      "torch.Size([100, 784])\n",
      "torch.Size([100, 784])\n",
      "torch.Size([100, 784])\n",
      "torch.Size([100, 784])\n",
      "torch.Size([100, 784])\n",
      "torch.Size([100, 784])\n",
      "torch.Size([100, 784])\n",
      "torch.Size([100, 784])\n",
      "torch.Size([100, 784])\n",
      "torch.Size([100, 784])\n",
      "torch.Size([100, 784])\n",
      "torch.Size([100, 784])\n",
      "torch.Size([100, 784])\n",
      "torch.Size([100, 784])\n",
      "torch.Size([100, 784])\n",
      "torch.Size([100, 784])\n",
      "torch.Size([100, 784])\n",
      "torch.Size([100, 784])\n",
      "torch.Size([100, 784])\n",
      "torch.Size([100, 784])\n",
      "torch.Size([100, 784])\n",
      "torch.Size([100, 784])\n",
      "torch.Size([100, 784])\n",
      "torch.Size([100, 784])\n",
      "torch.Size([100, 784])\n",
      "torch.Size([100, 784])\n",
      "torch.Size([100, 784])\n",
      "torch.Size([100, 784])\n",
      "torch.Size([100, 784])\n",
      "torch.Size([100, 784])\n",
      "torch.Size([100, 784])\n",
      "torch.Size([100, 784])\n",
      "torch.Size([100, 784])\n",
      "torch.Size([100, 784])\n",
      "torch.Size([100, 784])\n",
      "torch.Size([100, 784])\n",
      "torch.Size([100, 784])\n",
      "torch.Size([100, 784])\n",
      "torch.Size([100, 784])\n",
      "torch.Size([100, 784])\n",
      "torch.Size([100, 784])\n",
      "torch.Size([100, 784])\n",
      "torch.Size([100, 784])\n",
      "torch.Size([100, 784])\n",
      "torch.Size([100, 784])\n",
      "torch.Size([100, 784])\n",
      "torch.Size([100, 784])\n",
      "torch.Size([100, 784])\n",
      "torch.Size([100, 784])\n",
      "torch.Size([100, 784])\n",
      "torch.Size([100, 784])\n",
      "torch.Size([100, 784])\n",
      "torch.Size([100, 784])\n",
      "torch.Size([100, 784])\n",
      "torch.Size([100, 784])\n",
      "torch.Size([100, 784])\n",
      "torch.Size([100, 784])\n",
      "torch.Size([100, 784])\n",
      "torch.Size([100, 784])\n",
      "torch.Size([100, 784])\n",
      "torch.Size([100, 784])\n",
      "torch.Size([100, 784])\n",
      "torch.Size([100, 784])\n",
      "torch.Size([100, 784])\n",
      "torch.Size([100, 784])\n",
      "torch.Size([100, 784])\n",
      "torch.Size([100, 784])\n",
      "torch.Size([100, 784])\n",
      "torch.Size([100, 784])\n",
      "torch.Size([100, 784])\n",
      "torch.Size([100, 784])\n",
      "torch.Size([100, 784])\n",
      "torch.Size([100, 784])\n",
      "torch.Size([100, 784])\n",
      "torch.Size([100, 784])\n",
      "torch.Size([100, 784])\n",
      "torch.Size([100, 784])\n",
      "torch.Size([100, 784])\n",
      "torch.Size([100, 784])\n",
      "torch.Size([100, 784])\n",
      "torch.Size([100, 784])\n",
      "torch.Size([100, 784])\n",
      "torch.Size([100, 784])\n",
      "torch.Size([100, 784])\n",
      "torch.Size([100, 784])\n",
      "torch.Size([100, 784])\n",
      "torch.Size([100, 784])\n",
      "torch.Size([100, 784])\n",
      "torch.Size([100, 784])\n",
      "torch.Size([100, 784])\n",
      "torch.Size([100, 784])\n",
      "torch.Size([100, 784])\n",
      "torch.Size([100, 784])\n",
      "torch.Size([100, 784])\n",
      "torch.Size([100, 784])\n",
      "torch.Size([100, 784])\n",
      "torch.Size([100, 784])\n",
      "torch.Size([100, 784])\n",
      "torch.Size([100, 784])\n",
      "torch.Size([100, 784])\n",
      "torch.Size([100, 784])\n",
      "torch.Size([100, 784])\n",
      "torch.Size([100, 784])\n",
      "torch.Size([100, 784])\n",
      "torch.Size([100, 784])\n",
      "torch.Size([100, 784])\n",
      "torch.Size([100, 784])\n",
      "torch.Size([100, 784])\n",
      "torch.Size([100, 784])\n",
      "torch.Size([100, 784])\n",
      "torch.Size([100, 784])\n",
      "torch.Size([100, 784])\n",
      "torch.Size([100, 784])\n",
      "torch.Size([100, 784])\n",
      "torch.Size([100, 784])\n",
      "torch.Size([100, 784])\n",
      "torch.Size([100, 784])\n",
      "torch.Size([100, 784])\n",
      "torch.Size([100, 784])\n",
      "torch.Size([100, 784])\n",
      "torch.Size([100, 784])\n",
      "torch.Size([100, 784])\n",
      "torch.Size([100, 784])\n",
      "torch.Size([100, 784])\n",
      "torch.Size([100, 784])\n",
      "torch.Size([100, 784])\n",
      "torch.Size([100, 784])\n",
      "torch.Size([100, 784])\n",
      "torch.Size([100, 784])\n",
      "torch.Size([100, 784])\n",
      "torch.Size([100, 784])\n",
      "torch.Size([100, 784])\n",
      "torch.Size([100, 784])\n",
      "torch.Size([100, 784])\n",
      "torch.Size([100, 784])\n",
      "torch.Size([100, 784])\n",
      "torch.Size([100, 784])\n",
      "torch.Size([100, 784])\n",
      "torch.Size([100, 784])\n",
      "torch.Size([100, 784])\n",
      "torch.Size([100, 784])\n",
      "torch.Size([100, 784])\n",
      "torch.Size([100, 784])\n",
      "torch.Size([100, 784])\n",
      "torch.Size([100, 784])\n",
      "torch.Size([100, 784])\n",
      "torch.Size([100, 784])\n",
      "torch.Size([100, 784])\n",
      "torch.Size([100, 784])\n",
      "torch.Size([100, 784])\n",
      "torch.Size([100, 784])\n",
      "torch.Size([100, 784])\n",
      "torch.Size([100, 784])\n",
      "torch.Size([100, 784])\n",
      "torch.Size([100, 784])\n",
      "torch.Size([100, 784])\n",
      "torch.Size([100, 784])\n",
      "torch.Size([100, 784])\n",
      "torch.Size([100, 784])\n",
      "torch.Size([100, 784])\n",
      "torch.Size([100, 784])\n",
      "torch.Size([100, 784])\n",
      "torch.Size([100, 784])\n",
      "torch.Size([100, 784])\n",
      "torch.Size([100, 784])\n",
      "torch.Size([100, 784])\n",
      "torch.Size([100, 784])\n",
      "torch.Size([100, 784])\n",
      "torch.Size([100, 784])\n",
      "torch.Size([100, 784])\n",
      "torch.Size([100, 784])\n",
      "torch.Size([100, 784])\n",
      "torch.Size([100, 784])\n",
      "torch.Size([100, 784])\n",
      "torch.Size([100, 784])\n",
      "torch.Size([100, 784])\n",
      "torch.Size([100, 784])\n",
      "torch.Size([100, 784])\n",
      "torch.Size([100, 784])\n",
      "torch.Size([100, 784])\n",
      "torch.Size([100, 784])\n",
      "torch.Size([100, 784])\n",
      "torch.Size([100, 784])\n",
      "torch.Size([100, 784])\n",
      "torch.Size([100, 784])\n",
      "torch.Size([100, 784])\n",
      "torch.Size([100, 784])\n",
      "torch.Size([100, 784])\n",
      "torch.Size([100, 784])\n",
      "torch.Size([100, 784])\n",
      "torch.Size([100, 784])\n",
      "torch.Size([100, 784])\n",
      "torch.Size([100, 784])\n",
      "torch.Size([100, 784])\n",
      "torch.Size([100, 784])\n",
      "torch.Size([100, 784])\n",
      "torch.Size([100, 784])\n",
      "torch.Size([100, 784])\n",
      "torch.Size([100, 784])\n",
      "torch.Size([100, 784])\n",
      "torch.Size([100, 784])\n",
      "torch.Size([100, 784])\n",
      "torch.Size([100, 784])\n",
      "torch.Size([100, 784])\n",
      "torch.Size([100, 784])\n",
      "torch.Size([100, 784])\n",
      "torch.Size([100, 784])\n",
      "torch.Size([100, 784])\n",
      "torch.Size([100, 784])\n",
      "torch.Size([100, 784])\n",
      "torch.Size([100, 784])\n",
      "torch.Size([100, 784])\n",
      "torch.Size([100, 784])\n",
      "torch.Size([100, 784])\n",
      "torch.Size([100, 784])\n",
      "torch.Size([100, 784])\n",
      "torch.Size([100, 784])\n",
      "torch.Size([100, 784])\n",
      "torch.Size([100, 784])\n",
      "torch.Size([100, 784])\n",
      "torch.Size([100, 784])\n",
      "torch.Size([100, 784])\n",
      "torch.Size([100, 784])\n",
      "torch.Size([100, 784])\n",
      "torch.Size([100, 784])\n",
      "torch.Size([100, 784])\n",
      "torch.Size([100, 784])\n",
      "torch.Size([100, 784])\n",
      "torch.Size([100, 784])\n",
      "torch.Size([100, 784])\n",
      "torch.Size([100, 784])\n",
      "torch.Size([100, 784])\n",
      "torch.Size([100, 784])\n",
      "torch.Size([100, 784])\n",
      "torch.Size([100, 784])\n",
      "torch.Size([100, 784])\n",
      "torch.Size([100, 784])\n",
      "torch.Size([100, 784])\n",
      "torch.Size([100, 784])\n",
      "torch.Size([100, 784])\n",
      "torch.Size([100, 784])\n",
      "torch.Size([100, 784])\n",
      "torch.Size([100, 784])\n",
      "torch.Size([100, 784])\n",
      "torch.Size([100, 784])\n",
      "torch.Size([100, 784])\n",
      "torch.Size([100, 784])\n",
      "torch.Size([100, 784])\n",
      "torch.Size([100, 784])\n",
      "torch.Size([100, 784])\n",
      "torch.Size([100, 784])\n",
      "torch.Size([100, 784])\n",
      "torch.Size([100, 784])\n",
      "torch.Size([100, 784])\n",
      "torch.Size([100, 784])\n",
      "torch.Size([100, 784])\n",
      "torch.Size([100, 784])\n",
      "torch.Size([100, 784])\n",
      "torch.Size([100, 784])\n",
      "torch.Size([100, 784])\n",
      "torch.Size([100, 784])\n",
      "torch.Size([100, 784])\n",
      "torch.Size([100, 784])\n",
      "torch.Size([100, 784])\n",
      "torch.Size([100, 784])\n",
      "torch.Size([100, 784])\n",
      "torch.Size([100, 784])\n",
      "torch.Size([100, 784])\n",
      "torch.Size([100, 784])\n",
      "torch.Size([100, 784])\n",
      "torch.Size([100, 784])\n",
      "torch.Size([100, 784])\n",
      "torch.Size([100, 784])\n",
      "torch.Size([100, 784])\n",
      "torch.Size([100, 784])\n",
      "torch.Size([100, 784])\n",
      "torch.Size([100, 784])\n",
      "torch.Size([100, 784])\n",
      "torch.Size([100, 784])\n",
      "torch.Size([100, 784])\n",
      "torch.Size([100, 784])\n",
      "torch.Size([100, 784])\n",
      "torch.Size([100, 784])\n",
      "torch.Size([100, 784])\n",
      "torch.Size([100, 784])\n",
      "torch.Size([100, 784])\n",
      "torch.Size([100, 784])\n",
      "torch.Size([100, 784])\n",
      "torch.Size([100, 784])\n",
      "torch.Size([100, 784])\n",
      "torch.Size([100, 784])\n",
      "torch.Size([100, 784])\n",
      "torch.Size([100, 784])\n",
      "torch.Size([100, 784])\n",
      "torch.Size([100, 784])\n",
      "torch.Size([100, 784])\n",
      "torch.Size([100, 784])\n",
      "torch.Size([100, 784])\n",
      "torch.Size([100, 784])\n",
      "torch.Size([100, 784])\n",
      "torch.Size([100, 784])\n",
      "torch.Size([100, 784])\n",
      "torch.Size([100, 784])\n",
      "torch.Size([100, 784])\n",
      "torch.Size([100, 784])\n",
      "torch.Size([100, 784])\n",
      "torch.Size([100, 784])\n",
      "torch.Size([100, 784])\n",
      "torch.Size([100, 784])\n",
      "torch.Size([100, 784])\n",
      "torch.Size([100, 784])\n",
      "torch.Size([100, 784])\n",
      "torch.Size([100, 784])\n",
      "torch.Size([100, 784])\n",
      "torch.Size([100, 784])\n",
      "torch.Size([100, 784])\n",
      "torch.Size([100, 784])\n",
      "torch.Size([100, 784])\n",
      "torch.Size([100, 784])\n",
      "torch.Size([100, 784])\n",
      "torch.Size([100, 784])\n",
      "torch.Size([100, 784])\n",
      "torch.Size([100, 784])\n",
      "torch.Size([100, 784])\n",
      "torch.Size([100, 784])\n",
      "torch.Size([100, 784])\n",
      "torch.Size([100, 784])\n",
      "torch.Size([100, 784])\n",
      "torch.Size([100, 784])\n",
      "torch.Size([100, 784])\n",
      "torch.Size([100, 784])\n",
      "torch.Size([100, 784])\n",
      "torch.Size([100, 784])\n",
      "torch.Size([100, 784])\n",
      "torch.Size([100, 784])\n",
      "torch.Size([100, 784])\n",
      "torch.Size([100, 784])\n",
      "torch.Size([100, 784])\n",
      "torch.Size([100, 784])\n",
      "torch.Size([100, 784])\n",
      "torch.Size([100, 784])\n",
      "torch.Size([100, 784])\n",
      "torch.Size([100, 784])\n",
      "torch.Size([100, 784])\n",
      "torch.Size([100, 784])\n",
      "torch.Size([100, 784])\n",
      "torch.Size([100, 784])\n",
      "torch.Size([100, 784])\n",
      "torch.Size([100, 784])\n",
      "torch.Size([100, 784])\n",
      "torch.Size([100, 784])\n",
      "torch.Size([100, 784])\n",
      "torch.Size([100, 784])\n",
      "torch.Size([100, 784])\n",
      "torch.Size([100, 784])\n",
      "torch.Size([100, 784])\n",
      "torch.Size([100, 784])\n",
      "torch.Size([100, 784])\n",
      "torch.Size([100, 784])\n",
      "torch.Size([100, 784])\n",
      "torch.Size([100, 784])\n",
      "torch.Size([100, 784])\n",
      "torch.Size([100, 784])\n",
      "torch.Size([100, 784])\n",
      "torch.Size([100, 784])\n",
      "torch.Size([100, 784])\n",
      "torch.Size([100, 784])\n",
      "torch.Size([100, 784])\n",
      "torch.Size([100, 784])\n",
      "torch.Size([100, 784])\n",
      "torch.Size([100, 784])\n",
      "torch.Size([100, 784])\n",
      "torch.Size([100, 784])\n",
      "torch.Size([100, 784])\n",
      "torch.Size([100, 784])\n",
      "torch.Size([100, 784])\n",
      "torch.Size([100, 784])\n",
      "torch.Size([100, 784])\n",
      "torch.Size([100, 784])\n",
      "torch.Size([100, 784])\n",
      "torch.Size([100, 784])\n",
      "torch.Size([100, 784])\n",
      "torch.Size([100, 784])\n",
      "torch.Size([100, 784])\n",
      "torch.Size([100, 784])\n",
      "torch.Size([100, 784])\n",
      "torch.Size([100, 784])\n",
      "torch.Size([100, 784])\n",
      "torch.Size([100, 784])\n",
      "torch.Size([100, 784])\n",
      "torch.Size([100, 784])\n",
      "torch.Size([100, 784])\n",
      "torch.Size([100, 784])\n",
      "torch.Size([100, 784])\n",
      "torch.Size([100, 784])\n",
      "torch.Size([100, 784])\n",
      "torch.Size([100, 784])\n",
      "torch.Size([100, 784])\n",
      "torch.Size([100, 784])\n",
      "torch.Size([100, 784])\n",
      "torch.Size([100, 784])\n",
      "torch.Size([100, 784])\n"
     ]
    },
    {
     "data": {
      "text/plain": [
       "tensor(2.2800, grad_fn=<NllLossBackward>)"
      ]
     },
     "execution_count": 88,
     "metadata": {
      "tags": []
     },
     "output_type": "execute_result"
    }
   ],
   "source": [
    "\n",
    "fit(10,model,loss,train_dl,vali_dl,0.000001)"
   ]
  },
  {
   "cell_type": "code",
   "execution_count": 91,
   "metadata": {
    "colab": {
     "base_uri": "https://localhost:8080/",
     "height": 1000
    },
    "colab_type": "code",
    "id": "gMsIzyLpUucv",
    "outputId": "89379f90-bff3-4925-a34c-5b692113f813"
   },
   "outputs": [
    {
     "name": "stdout",
     "output_type": "stream",
     "text": [
      "torch.Size([100, 784])\n",
      "torch.Size([100, 784])\n",
      "torch.Size([100, 784])\n",
      "torch.Size([100, 784])\n",
      "torch.Size([100, 784])\n",
      "torch.Size([100, 784])\n",
      "torch.Size([100, 784])\n",
      "torch.Size([100, 784])\n",
      "torch.Size([100, 784])\n",
      "torch.Size([100, 784])\n",
      "torch.Size([100, 784])\n",
      "torch.Size([100, 784])\n",
      "torch.Size([100, 784])\n",
      "torch.Size([100, 784])\n",
      "torch.Size([100, 784])\n",
      "torch.Size([100, 784])\n",
      "torch.Size([100, 784])\n",
      "torch.Size([100, 784])\n",
      "torch.Size([100, 784])\n",
      "torch.Size([100, 784])\n",
      "torch.Size([100, 784])\n",
      "torch.Size([100, 784])\n",
      "torch.Size([100, 784])\n",
      "torch.Size([100, 784])\n",
      "torch.Size([100, 784])\n",
      "torch.Size([100, 784])\n",
      "torch.Size([100, 784])\n",
      "torch.Size([100, 784])\n",
      "torch.Size([100, 784])\n",
      "torch.Size([100, 784])\n",
      "torch.Size([100, 784])\n",
      "torch.Size([100, 784])\n",
      "torch.Size([100, 784])\n",
      "torch.Size([100, 784])\n",
      "torch.Size([100, 784])\n",
      "torch.Size([100, 784])\n",
      "torch.Size([100, 784])\n",
      "torch.Size([100, 784])\n",
      "torch.Size([100, 784])\n",
      "torch.Size([100, 784])\n",
      "torch.Size([100, 784])\n",
      "torch.Size([100, 784])\n",
      "torch.Size([100, 784])\n",
      "torch.Size([100, 784])\n",
      "torch.Size([100, 784])\n",
      "torch.Size([100, 784])\n",
      "torch.Size([100, 784])\n",
      "torch.Size([100, 784])\n",
      "torch.Size([100, 784])\n",
      "torch.Size([100, 784])\n",
      "torch.Size([100, 784])\n",
      "torch.Size([100, 784])\n",
      "torch.Size([100, 784])\n",
      "torch.Size([100, 784])\n",
      "torch.Size([100, 784])\n",
      "torch.Size([100, 784])\n",
      "torch.Size([100, 784])\n",
      "torch.Size([100, 784])\n",
      "torch.Size([100, 784])\n",
      "torch.Size([100, 784])\n",
      "torch.Size([100, 784])\n",
      "torch.Size([100, 784])\n",
      "torch.Size([100, 784])\n",
      "torch.Size([100, 784])\n",
      "torch.Size([100, 784])\n",
      "torch.Size([100, 784])\n",
      "torch.Size([100, 784])\n",
      "torch.Size([100, 784])\n",
      "torch.Size([100, 784])\n",
      "torch.Size([100, 784])\n",
      "torch.Size([100, 784])\n",
      "torch.Size([100, 784])\n",
      "torch.Size([100, 784])\n",
      "torch.Size([100, 784])\n",
      "torch.Size([100, 784])\n",
      "torch.Size([100, 784])\n",
      "torch.Size([100, 784])\n",
      "torch.Size([100, 784])\n",
      "torch.Size([100, 784])\n",
      "torch.Size([100, 784])\n",
      "torch.Size([100, 784])\n",
      "torch.Size([100, 784])\n",
      "torch.Size([100, 784])\n",
      "torch.Size([100, 784])\n",
      "torch.Size([100, 784])\n",
      "torch.Size([100, 784])\n",
      "torch.Size([100, 784])\n",
      "torch.Size([100, 784])\n",
      "torch.Size([100, 784])\n",
      "torch.Size([100, 784])\n",
      "torch.Size([100, 784])\n",
      "torch.Size([100, 784])\n",
      "torch.Size([100, 784])\n",
      "torch.Size([100, 784])\n",
      "torch.Size([100, 784])\n",
      "torch.Size([100, 784])\n",
      "torch.Size([100, 784])\n",
      "torch.Size([100, 784])\n",
      "torch.Size([100, 784])\n",
      "torch.Size([100, 784])\n",
      "torch.Size([100, 784])\n",
      "torch.Size([100, 784])\n",
      "torch.Size([100, 784])\n",
      "torch.Size([100, 784])\n",
      "torch.Size([100, 784])\n",
      "torch.Size([100, 784])\n",
      "torch.Size([100, 784])\n",
      "torch.Size([100, 784])\n",
      "torch.Size([100, 784])\n",
      "torch.Size([100, 784])\n",
      "torch.Size([100, 784])\n",
      "torch.Size([100, 784])\n",
      "torch.Size([100, 784])\n",
      "torch.Size([100, 784])\n",
      "torch.Size([100, 784])\n",
      "torch.Size([100, 784])\n",
      "torch.Size([100, 784])\n",
      "torch.Size([100, 784])\n",
      "torch.Size([100, 784])\n",
      "torch.Size([100, 784])\n",
      "torch.Size([100, 784])\n",
      "torch.Size([100, 784])\n",
      "torch.Size([100, 784])\n",
      "torch.Size([100, 784])\n",
      "torch.Size([100, 784])\n",
      "torch.Size([100, 784])\n",
      "torch.Size([100, 784])\n",
      "torch.Size([100, 784])\n",
      "torch.Size([100, 784])\n",
      "torch.Size([100, 784])\n",
      "torch.Size([100, 784])\n",
      "torch.Size([100, 784])\n",
      "torch.Size([100, 784])\n",
      "torch.Size([100, 784])\n",
      "torch.Size([100, 784])\n",
      "torch.Size([100, 784])\n",
      "torch.Size([100, 784])\n",
      "torch.Size([100, 784])\n",
      "torch.Size([100, 784])\n",
      "torch.Size([100, 784])\n",
      "torch.Size([100, 784])\n",
      "torch.Size([100, 784])\n",
      "torch.Size([100, 784])\n",
      "torch.Size([100, 784])\n",
      "torch.Size([100, 784])\n",
      "torch.Size([100, 784])\n",
      "torch.Size([100, 784])\n",
      "torch.Size([100, 784])\n",
      "torch.Size([100, 784])\n",
      "torch.Size([100, 784])\n",
      "torch.Size([100, 784])\n",
      "torch.Size([100, 784])\n",
      "torch.Size([100, 784])\n",
      "torch.Size([100, 784])\n",
      "torch.Size([100, 784])\n",
      "torch.Size([100, 784])\n",
      "torch.Size([100, 784])\n",
      "torch.Size([100, 784])\n",
      "torch.Size([100, 784])\n",
      "torch.Size([100, 784])\n",
      "torch.Size([100, 784])\n",
      "torch.Size([100, 784])\n",
      "torch.Size([100, 784])\n",
      "torch.Size([100, 784])\n",
      "torch.Size([100, 784])\n",
      "torch.Size([100, 784])\n",
      "torch.Size([100, 784])\n",
      "torch.Size([100, 784])\n",
      "torch.Size([100, 784])\n",
      "torch.Size([100, 784])\n",
      "torch.Size([100, 784])\n",
      "torch.Size([100, 784])\n",
      "torch.Size([100, 784])\n",
      "torch.Size([100, 784])\n",
      "torch.Size([100, 784])\n",
      "torch.Size([100, 784])\n",
      "torch.Size([100, 784])\n",
      "torch.Size([100, 784])\n",
      "torch.Size([100, 784])\n",
      "torch.Size([100, 784])\n",
      "torch.Size([100, 784])\n",
      "torch.Size([100, 784])\n",
      "torch.Size([100, 784])\n",
      "torch.Size([100, 784])\n",
      "torch.Size([100, 784])\n",
      "torch.Size([100, 784])\n",
      "torch.Size([100, 784])\n",
      "torch.Size([100, 784])\n",
      "torch.Size([100, 784])\n",
      "torch.Size([100, 784])\n",
      "torch.Size([100, 784])\n",
      "torch.Size([100, 784])\n",
      "torch.Size([100, 784])\n",
      "torch.Size([100, 784])\n",
      "torch.Size([100, 784])\n",
      "torch.Size([100, 784])\n",
      "torch.Size([100, 784])\n",
      "torch.Size([100, 784])\n",
      "torch.Size([100, 784])\n",
      "torch.Size([100, 784])\n",
      "torch.Size([100, 784])\n",
      "torch.Size([100, 784])\n",
      "torch.Size([100, 784])\n",
      "torch.Size([100, 784])\n",
      "torch.Size([100, 784])\n",
      "torch.Size([100, 784])\n",
      "torch.Size([100, 784])\n",
      "torch.Size([100, 784])\n",
      "torch.Size([100, 784])\n",
      "torch.Size([100, 784])\n",
      "torch.Size([100, 784])\n",
      "torch.Size([100, 784])\n",
      "torch.Size([100, 784])\n",
      "torch.Size([100, 784])\n",
      "torch.Size([100, 784])\n",
      "torch.Size([100, 784])\n",
      "torch.Size([100, 784])\n",
      "torch.Size([100, 784])\n",
      "torch.Size([100, 784])\n",
      "torch.Size([100, 784])\n",
      "torch.Size([100, 784])\n",
      "torch.Size([100, 784])\n",
      "torch.Size([100, 784])\n",
      "torch.Size([100, 784])\n",
      "torch.Size([100, 784])\n",
      "torch.Size([100, 784])\n",
      "torch.Size([100, 784])\n",
      "torch.Size([100, 784])\n",
      "torch.Size([100, 784])\n",
      "torch.Size([100, 784])\n",
      "torch.Size([100, 784])\n",
      "torch.Size([100, 784])\n",
      "torch.Size([100, 784])\n",
      "torch.Size([100, 784])\n",
      "torch.Size([100, 784])\n",
      "torch.Size([100, 784])\n",
      "torch.Size([100, 784])\n",
      "torch.Size([100, 784])\n",
      "torch.Size([100, 784])\n",
      "torch.Size([100, 784])\n",
      "torch.Size([100, 784])\n",
      "torch.Size([100, 784])\n",
      "torch.Size([100, 784])\n",
      "torch.Size([100, 784])\n",
      "torch.Size([100, 784])\n",
      "torch.Size([100, 784])\n",
      "torch.Size([100, 784])\n",
      "torch.Size([100, 784])\n",
      "torch.Size([100, 784])\n",
      "torch.Size([100, 784])\n",
      "torch.Size([100, 784])\n",
      "torch.Size([100, 784])\n",
      "torch.Size([100, 784])\n",
      "torch.Size([100, 784])\n",
      "torch.Size([100, 784])\n",
      "torch.Size([100, 784])\n",
      "torch.Size([100, 784])\n",
      "torch.Size([100, 784])\n",
      "torch.Size([100, 784])\n",
      "torch.Size([100, 784])\n",
      "torch.Size([100, 784])\n",
      "torch.Size([100, 784])\n",
      "torch.Size([100, 784])\n",
      "torch.Size([100, 784])\n",
      "torch.Size([100, 784])\n",
      "torch.Size([100, 784])\n",
      "torch.Size([100, 784])\n",
      "torch.Size([100, 784])\n",
      "torch.Size([100, 784])\n",
      "torch.Size([100, 784])\n",
      "torch.Size([100, 784])\n",
      "torch.Size([100, 784])\n",
      "torch.Size([100, 784])\n",
      "torch.Size([100, 784])\n",
      "torch.Size([100, 784])\n",
      "torch.Size([100, 784])\n",
      "torch.Size([100, 784])\n",
      "torch.Size([100, 784])\n",
      "torch.Size([100, 784])\n",
      "torch.Size([100, 784])\n",
      "torch.Size([100, 784])\n",
      "torch.Size([100, 784])\n",
      "torch.Size([100, 784])\n",
      "torch.Size([100, 784])\n",
      "torch.Size([100, 784])\n",
      "torch.Size([100, 784])\n",
      "torch.Size([100, 784])\n",
      "torch.Size([100, 784])\n",
      "torch.Size([100, 784])\n",
      "torch.Size([100, 784])\n",
      "torch.Size([100, 784])\n",
      "torch.Size([100, 784])\n",
      "torch.Size([100, 784])\n",
      "torch.Size([100, 784])\n",
      "torch.Size([100, 784])\n",
      "torch.Size([100, 784])\n",
      "torch.Size([100, 784])\n",
      "torch.Size([100, 784])\n",
      "torch.Size([100, 784])\n",
      "torch.Size([100, 784])\n",
      "torch.Size([100, 784])\n",
      "torch.Size([100, 784])\n",
      "torch.Size([100, 784])\n",
      "torch.Size([100, 784])\n",
      "torch.Size([100, 784])\n",
      "torch.Size([100, 784])\n",
      "torch.Size([100, 784])\n",
      "torch.Size([100, 784])\n",
      "torch.Size([100, 784])\n",
      "torch.Size([100, 784])\n",
      "torch.Size([100, 784])\n",
      "torch.Size([100, 784])\n",
      "torch.Size([100, 784])\n",
      "torch.Size([100, 784])\n",
      "torch.Size([100, 784])\n",
      "torch.Size([100, 784])\n",
      "torch.Size([100, 784])\n",
      "torch.Size([100, 784])\n",
      "torch.Size([100, 784])\n",
      "torch.Size([100, 784])\n",
      "torch.Size([100, 784])\n",
      "torch.Size([100, 784])\n",
      "torch.Size([100, 784])\n",
      "torch.Size([100, 784])\n",
      "torch.Size([100, 784])\n",
      "torch.Size([100, 784])\n",
      "torch.Size([100, 784])\n",
      "torch.Size([100, 784])\n",
      "torch.Size([100, 784])\n",
      "torch.Size([100, 784])\n",
      "torch.Size([100, 784])\n",
      "torch.Size([100, 784])\n",
      "torch.Size([100, 784])\n",
      "torch.Size([100, 784])\n",
      "torch.Size([100, 784])\n",
      "torch.Size([100, 784])\n",
      "torch.Size([100, 784])\n",
      "torch.Size([100, 784])\n",
      "torch.Size([100, 784])\n",
      "torch.Size([100, 784])\n",
      "torch.Size([100, 784])\n",
      "torch.Size([100, 784])\n",
      "torch.Size([100, 784])\n",
      "torch.Size([100, 784])\n",
      "torch.Size([100, 784])\n",
      "torch.Size([100, 784])\n",
      "torch.Size([100, 784])\n",
      "torch.Size([100, 784])\n",
      "torch.Size([100, 784])\n",
      "torch.Size([100, 784])\n",
      "torch.Size([100, 784])\n",
      "torch.Size([100, 784])\n",
      "torch.Size([100, 784])\n",
      "torch.Size([100, 784])\n",
      "torch.Size([100, 784])\n",
      "torch.Size([100, 784])\n",
      "torch.Size([100, 784])\n",
      "torch.Size([100, 784])\n",
      "torch.Size([100, 784])\n",
      "torch.Size([100, 784])\n",
      "torch.Size([100, 784])\n",
      "torch.Size([100, 784])\n",
      "torch.Size([100, 784])\n",
      "torch.Size([100, 784])\n",
      "torch.Size([100, 784])\n",
      "torch.Size([100, 784])\n",
      "torch.Size([100, 784])\n",
      "torch.Size([100, 784])\n",
      "torch.Size([100, 784])\n",
      "torch.Size([100, 784])\n",
      "torch.Size([100, 784])\n",
      "torch.Size([100, 784])\n",
      "torch.Size([100, 784])\n",
      "torch.Size([100, 784])\n",
      "torch.Size([100, 784])\n",
      "torch.Size([100, 784])\n",
      "torch.Size([100, 784])\n",
      "torch.Size([100, 784])\n",
      "torch.Size([100, 784])\n",
      "torch.Size([100, 784])\n",
      "torch.Size([100, 784])\n",
      "torch.Size([100, 784])\n",
      "torch.Size([100, 784])\n",
      "torch.Size([100, 784])\n",
      "torch.Size([100, 784])\n",
      "torch.Size([100, 784])\n",
      "torch.Size([100, 784])\n",
      "torch.Size([100, 784])\n",
      "torch.Size([100, 784])\n",
      "torch.Size([100, 784])\n",
      "torch.Size([100, 784])\n",
      "torch.Size([100, 784])\n",
      "torch.Size([100, 784])\n",
      "torch.Size([100, 784])\n",
      "torch.Size([100, 784])\n",
      "torch.Size([100, 784])\n",
      "torch.Size([100, 784])\n",
      "torch.Size([100, 784])\n",
      "torch.Size([100, 784])\n",
      "torch.Size([100, 784])\n",
      "torch.Size([100, 784])\n",
      "torch.Size([100, 784])\n",
      "torch.Size([100, 784])\n",
      "torch.Size([100, 784])\n",
      "torch.Size([100, 784])\n",
      "torch.Size([100, 784])\n",
      "torch.Size([100, 784])\n",
      "torch.Size([100, 784])\n",
      "torch.Size([100, 784])\n",
      "torch.Size([100, 784])\n",
      "torch.Size([100, 784])\n",
      "torch.Size([100, 784])\n",
      "torch.Size([100, 784])\n",
      "torch.Size([100, 784])\n",
      "torch.Size([100, 784])\n",
      "torch.Size([100, 784])\n",
      "torch.Size([100, 784])\n",
      "torch.Size([100, 784])\n",
      "torch.Size([100, 784])\n",
      "torch.Size([100, 784])\n",
      "torch.Size([100, 784])\n",
      "torch.Size([100, 784])\n",
      "torch.Size([100, 784])\n",
      "torch.Size([100, 784])\n",
      "torch.Size([100, 784])\n",
      "torch.Size([100, 784])\n",
      "torch.Size([100, 784])\n",
      "torch.Size([100, 784])\n",
      "torch.Size([100, 784])\n",
      "torch.Size([100, 784])\n",
      "torch.Size([100, 784])\n",
      "torch.Size([100, 784])\n",
      "torch.Size([100, 784])\n",
      "torch.Size([100, 784])\n",
      "torch.Size([100, 784])\n",
      "torch.Size([100, 784])\n",
      "torch.Size([100, 784])\n",
      "torch.Size([100, 784])\n",
      "torch.Size([100, 784])\n",
      "torch.Size([100, 784])\n",
      "torch.Size([100, 784])\n",
      "torch.Size([100, 784])\n",
      "torch.Size([100, 784])\n",
      "torch.Size([100, 784])\n",
      "torch.Size([100, 784])\n",
      "torch.Size([100, 784])\n",
      "torch.Size([100, 784])\n",
      "torch.Size([100, 784])\n",
      "torch.Size([100, 784])\n",
      "torch.Size([100, 784])\n",
      "torch.Size([100, 784])\n",
      "torch.Size([100, 784])\n",
      "torch.Size([100, 784])\n",
      "torch.Size([100, 784])\n",
      "torch.Size([100, 784])\n",
      "torch.Size([100, 784])\n",
      "torch.Size([100, 784])\n",
      "torch.Size([100, 784])\n",
      "torch.Size([100, 784])\n",
      "torch.Size([100, 784])\n",
      "torch.Size([100, 784])\n",
      "torch.Size([100, 784])\n",
      "torch.Size([100, 784])\n",
      "torch.Size([100, 784])\n",
      "torch.Size([100, 784])\n",
      "torch.Size([100, 784])\n",
      "torch.Size([100, 784])\n",
      "torch.Size([100, 784])\n",
      "torch.Size([100, 784])\n",
      "torch.Size([100, 784])\n",
      "torch.Size([100, 784])\n",
      "torch.Size([100, 784])\n",
      "torch.Size([100, 784])\n",
      "torch.Size([100, 784])\n",
      "torch.Size([100, 784])\n",
      "torch.Size([100, 784])\n",
      "torch.Size([100, 784])\n",
      "torch.Size([100, 784])\n",
      "torch.Size([100, 784])\n",
      "torch.Size([100, 784])\n",
      "torch.Size([100, 784])\n",
      "torch.Size([100, 784])\n",
      "torch.Size([100, 784])\n",
      "torch.Size([100, 784])\n",
      "torch.Size([100, 784])\n",
      "torch.Size([100, 784])\n",
      "torch.Size([100, 784])\n",
      "torch.Size([100, 784])\n",
      "torch.Size([100, 784])\n",
      "torch.Size([100, 784])\n",
      "torch.Size([100, 784])\n",
      "torch.Size([100, 784])\n",
      "torch.Size([100, 784])\n",
      "torch.Size([100, 784])\n",
      "torch.Size([100, 784])\n",
      "torch.Size([100, 784])\n",
      "torch.Size([100, 784])\n",
      "torch.Size([100, 784])\n",
      "torch.Size([100, 784])\n",
      "torch.Size([100, 784])\n"
     ]
    },
    {
     "data": {
      "text/plain": [
       "tensor(0.5768, grad_fn=<NllLossBackward>)"
      ]
     },
     "execution_count": 91,
     "metadata": {
      "tags": []
     },
     "output_type": "execute_result"
    }
   ],
   "source": [
    "\n",
    "fit(200,model,loss,train_dl,vali_dl,0.01)"
   ]
  },
  {
   "cell_type": "code",
   "execution_count": 0,
   "metadata": {
    "colab": {},
    "colab_type": "code",
    "id": "iOiwgca6WNKG"
   },
   "outputs": [],
   "source": [
    "for i in vali_dl:\n",
    "  img,label=i\n",
    "  break\n"
   ]
  },
  {
   "cell_type": "code",
   "execution_count": 0,
   "metadata": {
    "colab": {},
    "colab_type": "code",
    "id": "E0aMqiHRWfGn"
   },
   "outputs": [],
   "source": [
    "x=img[6]\n",
    "l=label[6]"
   ]
  },
  {
   "cell_type": "code",
   "execution_count": 0,
   "metadata": {
    "colab": {},
    "colab_type": "code",
    "id": "-U-FPhEdWocH"
   },
   "outputs": [],
   "source": [
    "im=x.unsqueeze(0)"
   ]
  },
  {
   "cell_type": "code",
   "execution_count": 140,
   "metadata": {
    "colab": {
     "base_uri": "https://localhost:8080/",
     "height": 34
    },
    "colab_type": "code",
    "id": "njr4fdcoWw-9",
    "outputId": "0da8b3ff-704d-4f84-9692-257db1f140be"
   },
   "outputs": [
    {
     "name": "stdout",
     "output_type": "stream",
     "text": [
      "torch.Size([1, 784])\n"
     ]
    }
   ],
   "source": [
    "pre=model(im)\n",
    "pre\n",
    "maxx,val=torch.max(pre,dim=1)"
   ]
  },
  {
   "cell_type": "code",
   "execution_count": 141,
   "metadata": {
    "colab": {
     "base_uri": "https://localhost:8080/",
     "height": 34
    },
    "colab_type": "code",
    "id": "JeshadkRXDct",
    "outputId": "d0ea3d53-ba32-4d12-bcb6-076a30816256"
   },
   "outputs": [
    {
     "data": {
      "text/plain": [
       "tensor([7])"
      ]
     },
     "execution_count": 141,
     "metadata": {
      "tags": []
     },
     "output_type": "execute_result"
    }
   ],
   "source": [
    "val"
   ]
  },
  {
   "cell_type": "code",
   "execution_count": 142,
   "metadata": {
    "colab": {
     "base_uri": "https://localhost:8080/",
     "height": 34
    },
    "colab_type": "code",
    "id": "Q4QaayoNX2O_",
    "outputId": "ea16335e-0268-45ec-f876-c0c3b202895a"
   },
   "outputs": [
    {
     "data": {
      "text/plain": [
       "tensor(7)"
      ]
     },
     "execution_count": 142,
     "metadata": {
      "tags": []
     },
     "output_type": "execute_result"
    }
   ],
   "source": [
    "l"
   ]
  },
  {
   "cell_type": "code",
   "execution_count": 137,
   "metadata": {
    "colab": {
     "base_uri": "https://localhost:8080/",
     "height": 102
    },
    "colab_type": "code",
    "id": "4Ka0B5iIYAQG",
    "outputId": "7819c5de-2af6-4d85-d38b-8a98f7b446c0"
   },
   "outputs": [
    {
     "data": {
      "text/plain": [
       "tensor([4, 9, 4, 4, 5, 5, 7, 6, 8, 1, 4, 9, 2, 2, 1, 2, 3, 1, 6, 9, 7, 2, 1, 3,\n",
       "        7, 7, 4, 7, 0, 7, 9, 0, 7, 1, 2, 3, 1, 2, 1, 2, 7, 3, 2, 7, 8, 9, 7, 3,\n",
       "        0, 9, 4, 8, 1, 6, 3, 3, 2, 9, 1, 4, 4, 7, 9, 7, 1, 4, 1, 3, 3, 2, 5, 1,\n",
       "        0, 9, 5, 5, 3, 2, 9, 6, 9, 5, 3, 2, 7, 9, 5, 2, 8, 6, 6, 1, 4, 8, 3, 9,\n",
       "        4, 6, 2, 4])"
      ]
     },
     "execution_count": 137,
     "metadata": {
      "tags": []
     },
     "output_type": "execute_result"
    }
   ],
   "source": [
    "label"
   ]
  },
  {
   "cell_type": "code",
   "execution_count": 0,
   "metadata": {
    "colab": {},
    "colab_type": "code",
    "id": "ulq0CKh3Y-iJ"
   },
   "outputs": [],
   "source": []
  }
 ],
 "metadata": {
  "colab": {
   "name": "image classification using logistic regression.ipynb",
   "provenance": []
  },
  "kernelspec": {
   "display_name": "Python 3",
   "language": "python",
   "name": "python3"
  },
  "language_info": {
   "codemirror_mode": {
    "name": "ipython",
    "version": 3
   },
   "file_extension": ".py",
   "mimetype": "text/x-python",
   "name": "python",
   "nbconvert_exporter": "python",
   "pygments_lexer": "ipython3",
   "version": "3.7.6"
  }
 },
 "nbformat": 4,
 "nbformat_minor": 1
}
